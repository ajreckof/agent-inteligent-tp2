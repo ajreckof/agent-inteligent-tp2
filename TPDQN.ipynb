{
 "cells": [
  {
   "cell_type": "markdown",
   "metadata": {},
   "source": [
    "# TP2 Deep QLearning\n",
    "\n",
    "Dans ce TP, vous devez implémenter un agent apprenant à faire atterir un vaisseau sur la lune avec l'algorithme Deep Q-Network. Pour cela vous allez utiliser [PyTorch](https://pytorch.org/) et [Gymnasium](https://gymnasium.farama.org/). \n",
    "\n",
    "<img src='img/lunarlander.png'  width=500px>\n",
    "\n",
    "# 1. Consignes\n",
    "\n",
    "> Vous devez  <span style=\"color:red\">compléter ce notebook et les différents fichiers python associés</span>.  <span style=\"color:red\"> Vous commenterez votre code</span> dans le notebook et dans les fichiers python.\n",
    "> \n",
    "> Vous devez aussi rendre un <span style=\"color:red\">rapport en pdf</span> (à ajouter à votre dépôt) avec le détail des différentes expérimentations réalisées dans les parties 6 et 7, i.e. pour chaque apprentissage testé, préciser dans le rapport les différents hyper paramètres (architecture du réseau, coefficient(s) d'apprentissage, nombre d'épisodes, taille du buffer, décroissance d'epsilon, ... tout ce qui permet de reproduire l'expérience) et mettre la courbe d'apprentissage obtenu.\n",
    "\n",
    "> Le code doit être fonctionnel avec l'environnement virtuel du TP. Si d'autres packages que ceux présents dans l'environnement virtuel créé au départ sont nécessaires, vous devez ajouter à votre dépôt un fichier `environnement.yaml` qui est un export de votre environnement virtuel. Ce fichier est obtenu avec la commande suivante:  ```conda env export > environnement.yaml```\n",
    "\n",
    "\n",
    "\n",
    "# 2. Import des packages"
   ]
  },
  {
   "cell_type": "code",
   "execution_count": 2,
   "metadata": {},
   "outputs": [
    {
     "name": "stdout",
     "output_type": "stream",
     "text": [
      "The autoreload extension is already loaded. To reload it, use:\n",
      "  %reload_ext autoreload\n"
     ]
    }
   ],
   "source": [
    "%load_ext autoreload\n",
    "import gymnasium as gym\n",
    "import random\n",
    "import torch\n",
    "import numpy as np\n",
    "from collections import deque\n",
    "import matplotlib.pyplot as plt\n",
    "%matplotlib inline"
   ]
  },
  {
   "cell_type": "markdown",
   "metadata": {},
   "source": [
    "# 3. Gymnasium\n",
    "\n",
    "En apprentissage par renforcement, il y a deux concepts fondamentaux : l’agent et l’environnement.\n",
    "- L’agent est l’entité apprenante qui observe l’environnement et agit sur celui-ci selon les actions disponibles. Son objectif est de maximiser la récompense cumulée qu’il recoit de l’environnement avec lequel il interagit.\n",
    "- L'agent interagit avec l'environnement à travers la boucle de perception/action ce qui nécessite de définir :\n",
    "    - Un espace d’action.\n",
    "    - Un espace d’état (ou observation).\n",
    "    - Une fonction de récompense.\n",
    "  \n",
    "[Gymnasium](https://gymnasium.farama.org/) propose une interface open source unifiée entre un agent et un environnement.\n",
    "- [Gymnasium](https://gymnasium.farama.org/) propose un ensemble d'environnements pour des tâches d'apprentissage par renforcement. La plupart des environnements ont leur code source disponible sur [GitHub](https://github.com/Farama-Foundation/Gymnasium/tree/main/gymnasium/envs). De nouveaux environnements peuvent aussi être créés à condition qu'ils soient compatibles avec l'interface. \n",
    "- Grâce à l'interface unifiée, il est possible de définir indépendamment un agent de l’environnement avec lequel il interagit (et inversement). \n",
    "- Lorsque certains pré-traitements sont nécessaires sur les actions, observations, récompenses, ... il est possible d’encapsuler l’environnement dans un **wrapper**, celui-ci se chargera du pré-traitement. \n",
    "\n"
   ]
  },
  {
   "cell_type": "markdown",
   "metadata": {},
   "source": [
    "Dans ce TP, nous allons implémenter un agent qui interagira avec l'environnement [LunarLander](https://gymnasium.farama.org/environments/box2d/lunar_lander/). Il existe plusieurs fonctions clé pour interagir avec un environnement.\n",
    "\n",
    ">  <span style=\"color:green\">Lisez la documentation de Gymnasium</span>: [utilisation basique](https://gymnasium.farama.org/content/basic_usage/), [API pour les environnements](https://gymnasium.farama.org/api/env/), ...\n",
    "\n",
    "\n"
   ]
  },
  {
   "cell_type": "markdown",
   "metadata": {},
   "source": [
    "##  3.1 - Caractéristiques de l'environnement LunarLander-v2\n",
    "\n",
    "> <span style=\"color:green\">Compléter la cellule de code ci-dessous. A l'exécution devra s'afficher:\n",
    "> \n",
    "> - **les dimensions pour les espaces d'états et d'actions** de l'environnement `LunarLander`.\n",
    "> - les bornes min et max pour les dimensions de l'état\n",
    "> - un échantillon pris au hasard dans chaque espace. "
   ]
  },
  {
   "cell_type": "code",
   "execution_count": 3,
   "metadata": {},
   "outputs": [
    {
     "name": "stdout",
     "output_type": "stream",
     "text": [
      "dimension de l'espace des observation :  8\n",
      " taille de l'espace des actions :  Discrete(4)\n",
      "valeur minimale :  [-1.5       -1.5       -5.        -5.        -3.1415927 -5.\n",
      " -0.        -0.       ]\n",
      "valeur maximale :  [1.5       1.5       5.        5.        3.1415927 5.        1.\n",
      " 1.       ]\n",
      "action au hasard :  0\n",
      "observation prise au hasard :  [-1.0966628   1.0557717   0.8618711   1.9064031  -1.7002836  -3.5949779\n",
      "  0.19324203  0.63072324]\n"
     ]
    }
   ],
   "source": [
    "env = gym.make(\"LunarLander-v2\")\n",
    "print(\"dimension de l'espace des observation : \", env.observation_space.shape[0])\n",
    "print(\" taille de l'espace des actions : \", env.action_space)\n",
    "print(\"valeur minimale : \", env.observation_space.low)\n",
    "print(\"valeur maximale : \", env.observation_space.high)\n",
    "print(\"action au hasard : \", env.action_space.sample())\n",
    "print(\"observation prise au hasard : \", env.observation_space.sample())\n",
    "\n"
   ]
  },
  {
   "cell_type": "markdown",
   "metadata": {},
   "source": [
    "## 3.2 Interaction et affichage de l'environnement sur un épisode\n",
    "\n",
    "> <span style=\"color:green\">Exécuter une instance de l'environnement `LunarLander` pendant un épisode avec des **actions aléatoires**. Afficher l'environnement à chaque pas pour visualiser le comportement du vaisseau. A la fin de l'épisode, afficher la somme des récompenses obtenues sur l'épisode et la raison pour laquelle l'épisode s'est terminé. </span>\n",
    "\n"
   ]
  },
  {
   "cell_type": "code",
   "execution_count": 4,
   "metadata": {},
   "outputs": [
    {
     "name": "stderr",
     "output_type": "stream",
     "text": [
      "/Users/timothebonhoure/miniconda3/envs/tpdeeprl2023/lib/python3.10/site-packages/gymnasium/utils/passive_env_checker.py:233: DeprecationWarning: `np.bool8` is a deprecated alias for `np.bool_`.  (Deprecated NumPy 1.24)\n",
      "  if not isinstance(terminated, (bool, np.bool8)):\n"
     ]
    },
    {
     "name": "stdout",
     "output_type": "stream",
     "text": [
      "l'épisode c'est fini car l'agent a atteint le sol\n",
      "récompense total :  -129.81977040561284\n"
     ]
    }
   ],
   "source": [
    "env = gym.make(\"LunarLander-v2\", render_mode=\"human\")\n",
    "observation, info = env.reset()\n",
    "terminated = False\n",
    "truncated = False \n",
    "total_reward = 0\n",
    "while not (terminated or truncated): \n",
    "    action = env.action_space.sample()  # agent policy that uses the observation and info\n",
    "    observation, reward, terminated, truncated, info = env.step(action)\n",
    "    total_reward += reward\n",
    "\n",
    "env.close()\n",
    "if truncated : \n",
    "    print(\"L'épisode c'est fini prématurément soit car l'agent a pris trop de temps soit qu'il est sortis de l'espace d'observation\")\n",
    "else :\n",
    "    print(\"l'épisode c'est fini car l'agent a atteint le sol\")\n",
    "\n",
    "print(\"récompense total : \", total_reward)"
   ]
  },
  {
   "cell_type": "markdown",
   "metadata": {},
   "source": [
    "# 4. Agent glouton (sans apprentissage)\n",
    "\n",
    "> <span style=\"color:green\">Vous devez maintenant implémenter un **agent glouton** qui utilise un réseau de neurones pour représenter la Q fonction.</span>\n",
    "\n",
    "- définir l'architecture du réseau de neurones en complétant `QNN.py`. Ce réseau va approximer la Q-fonction comme dans DQN (pour l'instant, les poids du réseau ne seront pas mis à jour, le réseau est uniquement utilisé en prédiction).\n",
    "\n",
    "- définir un agent glouton en complétant `agentglouton.py`: il utilisera la prédiction du réseau de neurones pour choisir ses actions selon une stratégie d’exploration $\\epsilon$-greedy.\n",
    "\n",
    "- utiliser cet agent sur plusieurs épisodes dans `LunarLander`. Vous utiliserez une décroissance de l'exploration, i.e. que $\\epsilon$ va décroitre à chaque épisode, en démarrant à une valeur élevée (beaucoup d'exploration) et avec une borne minimum. Ainsi, au premier épisode, $\\epsilon=\\epsilon_{start}$, et à chaque épisode, $\\epsilon=max(\\epsilon_{end}, \\epsilon_{decay}*\\epsilon)$. Par exemple sur 1000 épisodes, les valeurs peuvent être $\\epsilon_{start} = 1.0$, $\\epsilon_{end} = 0.01$ et $\\epsilon_{decay} = 0.995$.\n",
    "\n",
    "- proposer un tracé de la somme des récompenses obtenues par épisode (vous pouvez utiliser le fichier `utils.py`).\n"
   ]
  },
  {
   "cell_type": "code",
   "execution_count": 5,
   "metadata": {},
   "outputs": [],
   "source": [
    "# import depuis un fichier python local \n",
    "%autoreload 2\n",
    "from QNN import QNN \n",
    "%autoreload 2\n",
    "from agentglouton import AgentGlouton\n",
    "import utils"
   ]
  },
  {
   "cell_type": "code",
   "execution_count": 6,
   "metadata": {},
   "outputs": [
    {
     "name": "stdout",
     "output_type": "stream",
     "text": [
      "0\n",
      "100\n",
      "200\n",
      "300\n",
      "400\n",
      "500\n",
      "600\n",
      "700\n",
      "800\n",
      "900\n",
      "sum_rwd: <class 'list'>\n",
      "avgs: <class 'list'>\n"
     ]
    },
    {
     "data": {
      "image/png": "[encoded data removed]",
      "text/plain": [
       "<Figure size 640x480 with 1 Axes>"
      ]
     },
     "metadata": {},
     "output_type": "display_data"
    }
   ],
   "source": [
    "agent_glouton = AgentGlouton()\n",
    "\n",
    "env = gym.make(\"LunarLander-v2\")\n",
    "eps_min = 0.01\n",
    "eps_decay = 0.995\n",
    "n_ep = 1_000\n",
    "agent_glouton.eps = 1\n",
    "rewards = []\n",
    "\n",
    "def floating_average(n):\n",
    "    return lambda list : [ sum(list[max(0,i-n):i+1])/ min(i+1,n) for i in range(len(list))]\n",
    "\n",
    "def runOneEpisode():\n",
    "    observation, info = env.reset()\n",
    "    terminated = False\n",
    "    truncated = False \n",
    "    total_reward = 0\n",
    "    while not (terminated or truncated): \n",
    "        action = agent_glouton.getAction(observation)   # agent policy that uses the observation and info\n",
    "        observation, reward, terminated, truncated, info = env.step(action)\n",
    "        total_reward += reward\n",
    "    return total_reward\n",
    "\n",
    "for i in range(n_ep):\n",
    "    if i % 100 == 0 :\n",
    "        print(i)\n",
    "    rewards.append(runOneEpisode())\n",
    "    agent_glouton.eps = max(agent_glouton.eps * eps_decay, eps_min)\n",
    "utils.plot_sumrwd_mean_perepi(rewards,floating_average(50)(rewards))\n",
    "env.close()"
   ]
  },
  {
   "cell_type": "markdown",
   "metadata": {},
   "source": [
    "# 5. Experience replay\n",
    "\n",
    "L'algorithme DQN utilise l’experience replay:\n",
    "- pendant la phase de **sample**, qui est une phase d'interaction avec l'environnement sans apprentissage, l'agent stocke en mémoire toutes les interactions (ou expériences) rencontrées. Une interaction est un tuple `(état,action,état_suivant,récompense,fin_episode)`.  Le buffer a une taille maximale (100 000 par exemple). Lorsqu’elle est dépassée, les nouvelles interactions remplacent les plus anciennes. \n",
    "\n",
    "- pendant la phase d'**apprentissage**, l’agent apprend à partir des interactions stockées dans son buffer. Il choisit aléatoirement un minibatch d’interactions dans son buffer (64 par exemple).\n",
    "\n",
    "> <span style=\"color:green\">Compléter la classe `ReplayBuffer` du fichier `replaybuffer.py` pour stockez les interactions et récupérer des mini-batchs. </span> \n"
   ]
  },
  {
   "cell_type": "code",
   "execution_count": 7,
   "metadata": {},
   "outputs": [],
   "source": [
    "%autoreload 2\n",
    "from replaybuffer import ReplayBuffer"
   ]
  },
  {
   "cell_type": "markdown",
   "metadata": {},
   "source": [
    "# 6. Deep QLearning avec Replay Buffer\n",
    "\n",
    "\n",
    "Vous allez maintenant implémenter l'algorithme du **Deep QLearning avec ReplayBuffer** pour que votre agent apprenne en mettant à jour les poids de son réseau de neurone. \n",
    "\n",
    "- Après chaque interaction, le buffer sera remplit. \n",
    "- Une phase d'apprentissage sera réalisée toutes les `n` interactions (par ex. $n=4$), pendant laquelle un minibatch de données sera choisi dans le buffer pour réaliser la descente de gradient. Pour une interaction $(s,a,s',r)$, la valeur cible (erreur TD) sera calculée de la façon suivante:\n",
    "    - $y = r(s,a) + \\gamma max_b Q_\\omega(s',b) $ si l'épisode continu\n",
    "    - $y = r(s,a)  $ si l'épisode se termine\n",
    "\n",
    "Remarque: vous n'utiliserez pas de réseau cible (*target network*) pour l'instant.\n"
   ]
  },
  {
   "cell_type": "markdown",
   "metadata": {},
   "source": [
    "> <span style=\"color:green\">Compléter la classe `AgentDQN` et utiliser cet agent sur plusieurs épisodes dans `LunarLander`. Vous proposerez un tracé de la somme des récompenses obtenues par épisode (vous pouvez utiliser `utils.py`), et une visualisation d'un épisode après apprentissage.</span> \n",
    " \n",
    "Pour l'optimizer, SGD et [Adam](https://machinelearningmastery.com/adam-optimization-algorithm-for-deep-learning/) sont particulièrement adaptés. \n",
    "\n",
    "Voici aussi des liens vers différentes fonctions de PyTorch qui pourraient vous être utiles:\n",
    "- [unsqueeze](https://pytorch.org/docs/stable/generated/torch.unsqueeze.html)\n",
    "- [gather](https://pytorch.org/docs/stable/generated/torch.gather.html)\n",
    " \n",
    " "
   ]
  },
  {
   "cell_type": "code",
   "execution_count": 8,
   "metadata": {},
   "outputs": [],
   "source": [
    "%autoreload 2\n",
    "from agentdqn import AgentDQN"
   ]
  },
  {
   "cell_type": "code",
   "execution_count": 20,
   "metadata": {},
   "outputs": [
    {
     "name": "stdout",
     "output_type": "stream",
     "text": [
      "0\n"
     ]
    },
    {
     "name": "stderr",
     "output_type": "stream",
     "text": [
      "/Users/timothebonhoure/miniconda3/envs/tpdeeprl2023/lib/python3.10/site-packages/gymnasium/utils/passive_env_checker.py:233: DeprecationWarning: `np.bool8` is a deprecated alias for `np.bool_`.  (Deprecated NumPy 1.24)\n",
      "  if not isinstance(terminated, (bool, np.bool8)):\n"
     ]
    },
    {
     "name": "stdout",
     "output_type": "stream",
     "text": [
      "100\n",
      "200\n",
      "300\n",
      "400\n",
      "500\n",
      "600\n",
      "700\n",
      "800\n",
      "900\n",
      "sum_rwd: <class 'list'>\n",
      "avgs: <class 'list'>\n"
     ]
    },
    {
     "data": {
      "image/png": "[encoded data removed]",
      "text/plain": [
       "<Figure size 640x480 with 1 Axes>"
      ]
     },
     "metadata": {},
     "output_type": "display_data"
    }
   ],
   "source": [
    "\n",
    "env = gym.make(\"LunarLander-v2\")\n",
    "agent_dqn = AgentDQN(env)\n",
    "eps_min = 0.01\n",
    "eps_decay = 0.995\n",
    "n_ep = 1_000\n",
    "rewards = []\n",
    "\n",
    "for i in range(n_ep):\n",
    "    if i % 100 == 0 :\n",
    "        print(i)\n",
    "    rewards.append(agent_dqn.runOneEpisode())\n",
    "\n",
    "    agent_dqn.eps = max(agent_dqn.eps * eps_decay, eps_min)\n",
    "\n",
    "utils.plot_sumrwd_mean_perepi(rewards,floating_average(100)(rewards))\n",
    "env.close()"
   ]
  },
  {
   "cell_type": "code",
   "execution_count": 16,
   "metadata": {},
   "outputs": [],
   "source": [
    "%autoreload 2\n",
    "from test_agent import test_agent\n"
   ]
  },
  {
   "cell_type": "code",
   "execution_count": 21,
   "metadata": {},
   "outputs": [
    {
     "ename": "PicklingError",
     "evalue": "Can't pickle <class 'agentdqn.AgentDQN'>: it's not the same object as agentdqn.AgentDQN",
     "output_type": "error",
     "traceback": [
      "\u001b[0;31m---------------------------------------------------------------------------\u001b[0m",
      "\u001b[0;31mPicklingError\u001b[0m                             Traceback (most recent call last)",
      "Cell \u001b[0;32mIn[21], line 3\u001b[0m\n\u001b[1;32m      1\u001b[0m agent_dqn\u001b[38;5;241m.\u001b[39meps \u001b[38;5;241m=\u001b[39m \u001b[38;5;241m0\u001b[39m\n\u001b[1;32m      2\u001b[0m agent_glouton\u001b[38;5;241m.\u001b[39meps \u001b[38;5;241m=\u001b[39m \u001b[38;5;241m0\u001b[39m\n\u001b[0;32m----> 3\u001b[0m \u001b[38;5;28mprint\u001b[39m(\u001b[43mtest_agent\u001b[49m\u001b[43m(\u001b[49m\u001b[43magent_dqn\u001b[49m\u001b[43m)\u001b[49m)\n\u001b[1;32m      4\u001b[0m \u001b[38;5;28mprint\u001b[39m(test_agent(agent_glouton))\n\u001b[1;32m      5\u001b[0m \u001b[38;5;28mprint\u001b[39m(test_agent(AgentDQN(gym\u001b[38;5;241m.\u001b[39mmake(\u001b[38;5;124m\"\u001b[39m\u001b[38;5;124mLunarLander-v2\u001b[39m\u001b[38;5;124m\"\u001b[39m)))) \u001b[38;5;66;03m#fully random choice\u001b[39;00m\n",
      "File \u001b[0;32m~/Documents/GitHub/2023-m2ia-intagents-tp2-timothe-bonhoure/test_agent.py:43\u001b[0m, in \u001b[0;36mtest_agent\u001b[0;34m(agent, mean, visual)\u001b[0m\n\u001b[1;32m     41\u001b[0m \u001b[39m# evaluate \"solve2(B)\" asynchronously\u001b[39;00m\n\u001b[1;32m     42\u001b[0m mean_waiter \u001b[39m=\u001b[39m pool\u001b[39m.\u001b[39mapply_async(test_agent_mean, [agent])\n\u001b[0;32m---> 43\u001b[0m visual_waiter\u001b[39m.\u001b[39;49mget()\n\u001b[1;32m     44\u001b[0m mean \u001b[39m=\u001b[39m mean_waiter\u001b[39m.\u001b[39mget()\n\u001b[1;32m     45\u001b[0m \u001b[39mreturn\u001b[39;00m mean\n",
      "File \u001b[0;32m~/miniconda3/envs/tpdeeprl2023/lib/python3.10/multiprocessing/pool.py:774\u001b[0m, in \u001b[0;36mApplyResult.get\u001b[0;34m(self, timeout)\u001b[0m\n\u001b[1;32m    772\u001b[0m     \u001b[39mreturn\u001b[39;00m \u001b[39mself\u001b[39m\u001b[39m.\u001b[39m_value\n\u001b[1;32m    773\u001b[0m \u001b[39melse\u001b[39;00m:\n\u001b[0;32m--> 774\u001b[0m     \u001b[39mraise\u001b[39;00m \u001b[39mself\u001b[39m\u001b[39m.\u001b[39m_value\n",
      "File \u001b[0;32m~/miniconda3/envs/tpdeeprl2023/lib/python3.10/multiprocessing/pool.py:540\u001b[0m, in \u001b[0;36mPool._handle_tasks\u001b[0;34m(taskqueue, put, outqueue, pool, cache)\u001b[0m\n\u001b[1;32m    538\u001b[0m     \u001b[39mbreak\u001b[39;00m\n\u001b[1;32m    539\u001b[0m \u001b[39mtry\u001b[39;00m:\n\u001b[0;32m--> 540\u001b[0m     put(task)\n\u001b[1;32m    541\u001b[0m \u001b[39mexcept\u001b[39;00m \u001b[39mException\u001b[39;00m \u001b[39mas\u001b[39;00m e:\n\u001b[1;32m    542\u001b[0m     job, idx \u001b[39m=\u001b[39m task[:\u001b[39m2\u001b[39m]\n",
      "File \u001b[0;32m~/miniconda3/envs/tpdeeprl2023/lib/python3.10/multiprocessing/connection.py:206\u001b[0m, in \u001b[0;36m_ConnectionBase.send\u001b[0;34m(self, obj)\u001b[0m\n\u001b[1;32m    204\u001b[0m \u001b[39mself\u001b[39m\u001b[39m.\u001b[39m_check_closed()\n\u001b[1;32m    205\u001b[0m \u001b[39mself\u001b[39m\u001b[39m.\u001b[39m_check_writable()\n\u001b[0;32m--> 206\u001b[0m \u001b[39mself\u001b[39m\u001b[39m.\u001b[39m_send_bytes(_ForkingPickler\u001b[39m.\u001b[39;49mdumps(obj))\n",
      "File \u001b[0;32m~/miniconda3/envs/tpdeeprl2023/lib/python3.10/multiprocessing/reduction.py:51\u001b[0m, in \u001b[0;36mForkingPickler.dumps\u001b[0;34m(cls, obj, protocol)\u001b[0m\n\u001b[1;32m     48\u001b[0m \u001b[39m@classmethod\u001b[39m\n\u001b[1;32m     49\u001b[0m \u001b[39mdef\u001b[39;00m \u001b[39mdumps\u001b[39m(\u001b[39mcls\u001b[39m, obj, protocol\u001b[39m=\u001b[39m\u001b[39mNone\u001b[39;00m):\n\u001b[1;32m     50\u001b[0m     buf \u001b[39m=\u001b[39m io\u001b[39m.\u001b[39mBytesIO()\n\u001b[0;32m---> 51\u001b[0m     \u001b[39mcls\u001b[39;49m(buf, protocol)\u001b[39m.\u001b[39;49mdump(obj)\n\u001b[1;32m     52\u001b[0m     \u001b[39mreturn\u001b[39;00m buf\u001b[39m.\u001b[39mgetbuffer()\n",
      "\u001b[0;31mPicklingError\u001b[0m: Can't pickle <class 'agentdqn.AgentDQN'>: it's not the same object as agentdqn.AgentDQN"
     ]
    }
   ],
   "source": [
    "    \n",
    "agent_dqn.eps = 0\n",
    "agent_glouton.eps = 0\n",
    "print(test_agent(agent_dqn))\n",
    "print(test_agent(agent_glouton))\n",
    "print(test_agent(AgentDQN(gym.make(\"LunarLander-v2\")))) #fully random choice"
   ]
  },
  {
   "cell_type": "markdown",
   "metadata": {},
   "source": [
    "# 7. Deep QLearning avec réseau cible\n",
    "\n",
    "Il se peut que votre agent précédent apprenne des comportements intéressants mais qu’ils soient très instables. On va maintenant ajouter un réseau cible pour l'améliorer.\n",
    "\n",
    "> <span style=\"color:green\"> Compléter la classe `AgentDQNTarget` pour implémenter un agent apprenant avec DQN (deep QLearning et *target network*) pour stabiliser l’apprentissage. Utiliser cet agent sur plusieurs épisodes dans `LunarLander`. Vous proposerez un tracé de la somme des récompenses obtenues par épisode (vous pouvez utiliser `utils.py`), et une visualisation d'un épisode après apprentissage.</span> \n",
    " \n",
    " \n",
    "Pour la mise à jour du réseau cible, vous pouvez:\n",
    "- toutes les N étapes d'apprentissage (10000 par exemple), recopier entièrement le réseau de neurone original dans le duplicat\n",
    "- mettre à jour petit à petit le duplicat à chaque étape d’apprentissage : $$\\omega' = (1-\\tau)\\omega' +\\alpha \\omega$$ où $\\omega'$ sont les poids du duplicat, $\\omega$ les poids du réseau original, et $\\tau$ le pas de mise à jour. Souvent $\\tau = 0.001$.\n",
    "\n",
    "\n",
    "Pour copier des poids d'un réseau de neurone vers un autre, la méthode `copy_` peut être appelée sur les paramètres:\n",
    "\n",
    "`for param_duplicat, param_source in zip(model_duplicat.parameters(), model_source.parameters()):`\n",
    "           \n",
    "`param_duplicat.data.copy_(param_source.data)`\n",
    "\n",
    "\n",
    "\n",
    "\n"
   ]
  },
  {
   "cell_type": "code",
   "execution_count": null,
   "metadata": {},
   "outputs": [],
   "source": [
    "%autoreload 2\n",
    "from agentdqntarget import AgentDQNTarget"
   ]
  },
  {
   "cell_type": "code",
   "execution_count": null,
   "metadata": {},
   "outputs": [
    {
     "name": "stdout",
     "output_type": "stream",
     "text": [
      "0 1\n"
     ]
    },
    {
     "name": "stderr",
     "output_type": "stream",
     "text": [
      "/Users/timothebonhoure/miniconda3/envs/tpdeeprl2023/lib/python3.10/site-packages/gymnasium/utils/passive_env_checker.py:233: DeprecationWarning: `np.bool8` is a deprecated alias for `np.bool_`.  (Deprecated NumPy 1.24)\n",
      "  if not isinstance(terminated, (bool, np.bool8)):\n"
     ]
    },
    {
     "name": "stdout",
     "output_type": "stream",
     "text": [
      "20 0.9607509570263429\n",
      "40 0.9230424014270336\n",
      "60 0.8868138705469162\n",
      "80 0.8520072748321851\n",
      "100 0.818566804688428\n",
      "120 0.7864388409944025\n",
      "140 0.7555718691280602\n"
     ]
    },
    {
     "name": "stderr",
     "output_type": "stream",
     "text": [
      "(raylet) [2023-09-28 17:06:17,803 E 16553 7424559] (raylet) file_system_monitor.cc:111: /tmp/ray/session_2023-09-28_16-24-44_905214_10515 is over 95% full, available space: 18291376128; capacity: 494384795648. Object creation will fail if spilling is required.\n"
     ]
    },
    {
     "name": "stdout",
     "output_type": "stream",
     "text": [
      "160 0.7259163963669665\n",
      "180 0.697424872530677\n",
      "200 0.670051613737823\n",
      "220 0.6437527291556586\n",
      "240 0.6184860506246193\n",
      "260 0.5942110650450458\n",
      "280 0.5708888494176704\n",
      "300 0.5484820084336942\n"
     ]
    },
    {
     "name": "stderr",
     "output_type": "stream",
     "text": [
      "(raylet) [2023-09-28 17:06:27,893 E 16553 7424559] (raylet) file_system_monitor.cc:111: /tmp/ray/session_2023-09-28_16-24-44_905214_10515 is over 95% full, available space: 18290405376; capacity: 494384795648. Object creation will fail if spilling is required.\n"
     ]
    },
    {
     "name": "stdout",
     "output_type": "stream",
     "text": [
      "320 0.5269546145144024\n",
      "340 0.5062721502041595\n",
      "360 0.48640145282443054\n",
      "380 0.46731066130007526\n",
      "400 0.4489691650726603\n",
      "420 0.4313475550188765\n",
      "440 0.41441757629535864\n",
      "460 0.3981520830343033\n"
     ]
    },
    {
     "name": "stderr",
     "output_type": "stream",
     "text": [
      "(raylet) [2023-09-28 17:06:37,986 E 16553 7424559] (raylet) file_system_monitor.cc:111: /tmp/ray/session_2023-09-28_16-24-44_905214_10515 is over 95% full, available space: 18290401280; capacity: 494384795648. Object creation will fail if spilling is required.\n"
     ]
    },
    {
     "name": "stdout",
     "output_type": "stream",
     "text": [
      "480 0.38252499481723873\n",
      "500 0.36751125485715885\n",
      "520 0.35308678982196745\n",
      "540 0.3392284712348143\n",
      "560 0.32591407838943093\n",
      "580 0.31312226272100424\n",
      "600 0.3008325135754587\n"
     ]
    },
    {
     "name": "stderr",
     "output_type": "stream",
     "text": [
      "(raylet) [2023-09-28 17:06:48,078 E 16553 7424559] (raylet) file_system_monitor.cc:111: /tmp/ray/session_2023-09-28_16-24-44_905214_10515 is over 95% full, available space: 18290401280; capacity: 494384795648. Object creation will fail if spilling is required.\n"
     ]
    },
    {
     "name": "stdout",
     "output_type": "stream",
     "text": [
      "620 0.2890251253222622\n",
      "640 0.27768116575802215\n",
      "660 0.2667824457502102\n"
     ]
    },
    {
     "name": "stderr",
     "output_type": "stream",
     "text": [
      "(raylet) [2023-09-28 17:06:58,165 E 16553 7424559] (raylet) file_system_monitor.cc:111: /tmp/ray/session_2023-09-28_16-24-44_905214_10515 is over 95% full, available space: 18290053120; capacity: 494384795648. Object creation will fail if spilling is required.\n"
     ]
    },
    {
     "name": "stdout",
     "output_type": "stream",
     "text": [
      "680 0.2563114900723428\n",
      "700 0.24625150938385126\n"
     ]
    },
    {
     "name": "stderr",
     "output_type": "stream",
     "text": [
      "(raylet) [2023-09-28 17:07:08,262 E 16553 7424559] (raylet) file_system_monitor.cc:111: /tmp/ray/session_2023-09-28_16-24-44_905214_10515 is over 95% full, available space: 18288885760; capacity: 494384795648. Object creation will fail if spilling is required.\n"
     ]
    },
    {
     "name": "stdout",
     "output_type": "stream",
     "text": [
      "720 0.23658637330971655\n",
      "740 0.22730058457670177\n",
      "760 0.21837925416471335\n"
     ]
    },
    {
     "name": "stderr",
     "output_type": "stream",
     "text": [
      "(raylet) [2023-09-28 17:07:18,350 E 16553 7424559] (raylet) file_system_monitor.cc:111: /tmp/ray/session_2023-09-28_16-24-44_905214_10515 is over 95% full, available space: 18287742976; capacity: 494384795648. Object creation will fail if spilling is required.\n"
     ]
    },
    {
     "name": "stdout",
     "output_type": "stream",
     "text": [
      "780 0.2098080774334473\n",
      "800 0.20157331118604155\n",
      "820 0.1936617516329582\n"
     ]
    },
    {
     "name": "stderr",
     "output_type": "stream",
     "text": [
      "(raylet) [2023-09-28 17:07:28,440 E 16553 7424559] (raylet) file_system_monitor.cc:111: /tmp/ray/session_2023-09-28_16-24-44_905214_10515 is over 95% full, available space: 18287656960; capacity: 494384795648. Object creation will fail if spilling is required.\n"
     ]
    },
    {
     "name": "stdout",
     "output_type": "stream",
     "text": [
      "840 0.1860607132207625\n",
      "860 0.17875800829185146\n"
     ]
    },
    {
     "name": "stderr",
     "output_type": "stream",
     "text": [
      "(raylet) [2023-09-28 17:07:38,533 E 16553 7424559] (raylet) file_system_monitor.cc:111: /tmp/ray/session_2023-09-28_16-24-44_905214_10515 is over 95% full, available space: 18287652864; capacity: 494384795648. Object creation will fail if spilling is required.\n"
     ]
    },
    {
     "name": "stdout",
     "output_type": "stream",
     "text": [
      "880 0.17174192754251918\n",
      "900 0.1650012212480241\n",
      "920 0.15852508122455447\n",
      "940 0.15230312349916944\n"
     ]
    },
    {
     "name": "stderr",
     "output_type": "stream",
     "text": [
      "(raylet) [2023-09-28 17:07:48,625 E 16553 7424559] (raylet) file_system_monitor.cc:111: /tmp/ray/session_2023-09-28_16-24-44_905214_10515 is over 95% full, available space: 18287644672; capacity: 494384795648. Object creation will fail if spilling is required.\n"
     ]
    },
    {
     "name": "stdout",
     "output_type": "stream",
     "text": [
      "960 0.14632537165992823\n",
      "980 0.14058224085951135\n"
     ]
    },
    {
     "name": "stderr",
     "output_type": "stream",
     "text": [
      "(raylet) [2023-09-28 17:07:58,719 E 16553 7424559] (raylet) file_system_monitor.cc:111: /tmp/ray/session_2023-09-28_16-24-44_905214_10515 is over 95% full, available space: 18287620096; capacity: 494384795648. Object creation will fail if spilling is required.\n"
     ]
    },
    {
     "name": "stdout",
     "output_type": "stream",
     "text": [
      "1000 0.13506452244668335\n",
      "1020 0.12976336920095705\n"
     ]
    },
    {
     "name": "stderr",
     "output_type": "stream",
     "text": [
      "(raylet) [2023-09-28 17:08:08,807 E 16553 7424559] (raylet) file_system_monitor.cc:111: /tmp/ray/session_2023-09-28_16-24-44_905214_10515 is over 95% full, available space: 18286587904; capacity: 494384795648. Object creation will fail if spilling is required.\n"
     ]
    },
    {
     "name": "stdout",
     "output_type": "stream",
     "text": [
      "1040 0.12467028114678214\n",
      "1060 0.11977709192451416\n"
     ]
    },
    {
     "name": "stderr",
     "output_type": "stream",
     "text": [
      "(raylet) [2023-09-28 17:08:18,897 E 16553 7424559] (raylet) file_system_monitor.cc:111: /tmp/ray/session_2023-09-28_16-24-44_905214_10515 is over 95% full, available space: 18286587904; capacity: 494384795648. Object creation will fail if spilling is required.\n"
     ]
    },
    {
     "name": "stdout",
     "output_type": "stream",
     "text": [
      "1080 0.11507595569630924\n",
      "1100 0.11055933456595012\n"
     ]
    },
    {
     "name": "stderr",
     "output_type": "stream",
     "text": [
      "(raylet) [2023-09-28 17:08:28,990 E 16553 7424559] (raylet) file_system_monitor.cc:111: /tmp/ray/session_2023-09-28_16-24-44_905214_10515 is over 95% full, available space: 18286583808; capacity: 494384795648. Object creation will fail if spilling is required.\n"
     ]
    },
    {
     "name": "stdout",
     "output_type": "stream",
     "text": [
      "1120 0.10621998649243217\n",
      "1140 0.10205095367792938\n"
     ]
    },
    {
     "name": "stderr",
     "output_type": "stream",
     "text": [
      "(raylet) [2023-09-28 17:08:39,079 E 16553 7424559] (raylet) file_system_monitor.cc:111: /tmp/ray/session_2023-09-28_16-24-44_905214_10515 is over 95% full, available space: 18290700288; capacity: 494384795648. Object creation will fail if spilling is required.\n"
     ]
    },
    {
     "name": "stdout",
     "output_type": "stream",
     "text": [
      "1160 0.09804555141152164\n",
      "1180 0.0941973573507949\n",
      "1200 0.09050020122412858\n"
     ]
    },
    {
     "name": "stderr",
     "output_type": "stream",
     "text": [
      "(raylet) [2023-09-28 17:08:49,169 E 16553 7424559] (raylet) file_system_monitor.cc:111: /tmp/ray/session_2023-09-28_16-24-44_905214_10515 is over 95% full, available space: 18290700288; capacity: 494384795648. Object creation will fail if spilling is required.\n"
     ]
    },
    {
     "name": "stdout",
     "output_type": "stream",
     "text": [
      "1220 0.08694815493715811\n",
      "1240 0.08353552306754937\n",
      "1260 0.08025683373284419\n"
     ]
    },
    {
     "name": "stderr",
     "output_type": "stream",
     "text": [
      "(raylet) [2023-09-28 17:08:59,258 E 16553 7424559] (raylet) file_system_monitor.cc:111: /tmp/ray/session_2023-09-28_16-24-44_905214_10515 is over 95% full, available space: 18290245632; capacity: 494384795648. Object creation will fail if spilling is required.\n"
     ]
    },
    {
     "name": "stdout",
     "output_type": "stream",
     "text": [
      "1280 0.07710682981673408\n",
      "1300 0.07408046053969458\n",
      "1320 0.07117287336046382\n",
      "1340 0.06837940619538035\n"
     ]
    },
    {
     "name": "stderr",
     "output_type": "stream",
     "text": [
      "(raylet) [2023-09-28 17:09:09,347 E 16553 7424559] (raylet) file_system_monitor.cc:111: /tmp/ray/session_2023-09-28_16-24-44_905214_10515 is over 95% full, available space: 18290241536; capacity: 494384795648. Object creation will fail if spilling is required.\n"
     ]
    },
    {
     "name": "stdout",
     "output_type": "stream",
     "text": [
      "1360 0.06569557994310468\n",
      "1380 0.06311709130273843\n"
     ]
    },
    {
     "name": "stderr",
     "output_type": "stream",
     "text": [
      "(raylet) [2023-09-28 17:09:19,437 E 16553 7424559] (raylet) file_system_monitor.cc:111: /tmp/ray/session_2023-09-28_16-24-44_905214_10515 is over 95% full, available space: 18290257920; capacity: 494384795648. Object creation will fail if spilling is required.\n"
     ]
    },
    {
     "name": "stdout",
     "output_type": "stream",
     "text": [
      "1400 0.06063980587382501\n"
     ]
    },
    {
     "name": "stderr",
     "output_type": "stream",
     "text": [
      "(raylet) [2023-09-28 17:09:29,525 E 16553 7424559] (raylet) file_system_monitor.cc:111: /tmp/ray/session_2023-09-28_16-24-44_905214_10515 is over 95% full, available space: 18289106944; capacity: 494384795648. Object creation will fail if spilling is required.\n"
     ]
    },
    {
     "name": "stdout",
     "output_type": "stream",
     "text": [
      "1420 0.05825975152716902\n"
     ]
    },
    {
     "name": "stderr",
     "output_type": "stream",
     "text": [
      "(raylet) [2023-09-28 17:09:39,617 E 16553 7424559] (raylet) file_system_monitor.cc:111: /tmp/ray/session_2023-09-28_16-24-44_905214_10515 is over 95% full, available space: 18289106944; capacity: 494384795648. Object creation will fail if spilling is required.\n"
     ]
    },
    {
     "name": "stdout",
     "output_type": "stream",
     "text": [
      "1440 0.055973112035844576\n"
     ]
    },
    {
     "name": "stderr",
     "output_type": "stream",
     "text": [
      "(raylet) [2023-09-28 17:09:49,708 E 16553 7424559] (raylet) file_system_monitor.cc:111: /tmp/ray/session_2023-09-28_16-24-44_905214_10515 is over 95% full, available space: 18289111040; capacity: 494384795648. Object creation will fail if spilling is required.\n"
     ]
    },
    {
     "name": "stdout",
     "output_type": "stream",
     "text": [
      "1460 0.053776220956180384\n",
      "1480 0.05166555574891037\n",
      "1500 0.0496377321310635\n"
     ]
    },
    {
     "name": "stderr",
     "output_type": "stream",
     "text": [
      "(raylet) [2023-09-28 17:09:59,796 E 16553 7424559] (raylet) file_system_monitor.cc:111: /tmp/ray/session_2023-09-28_16-24-44_905214_10515 is over 95% full, available space: 18288734208; capacity: 494384795648. Object creation will fail if spilling is required.\n"
     ]
    },
    {
     "name": "stdout",
     "output_type": "stream",
     "text": [
      "1520 0.04768949864953651\n"
     ]
    },
    {
     "name": "stderr",
     "output_type": "stream",
     "text": [
      "(raylet) [2023-09-28 17:10:09,887 E 16553 7424559] (raylet) file_system_monitor.cc:111: /tmp/ray/session_2023-09-28_16-24-44_905214_10515 is over 95% full, available space: 18288726016; capacity: 494384795648. Object creation will fail if spilling is required.\n"
     ]
    },
    {
     "name": "stdout",
     "output_type": "stream",
     "text": [
      "1540 0.045817731467648684\n",
      "1560 0.044019429356319445\n",
      "1580 0.04229170888183738\n"
     ]
    },
    {
     "name": "stderr",
     "output_type": "stream",
     "text": [
      "(raylet) [2023-09-28 17:10:19,969 E 16553 7424559] (raylet) file_system_monitor.cc:111: /tmp/ray/session_2023-09-28_16-24-44_905214_10515 is over 95% full, available space: 18288726016; capacity: 494384795648. Object creation will fail if spilling is required.\n"
     ]
    },
    {
     "name": "stdout",
     "output_type": "stream",
     "text": [
      "1600 0.04063179978250474\n",
      "1620 0.039037040526744164\n"
     ]
    },
    {
     "name": "stderr",
     "output_type": "stream",
     "text": [
      "(raylet) [2023-09-28 17:10:30,056 E 16553 7424559] (raylet) file_system_monitor.cc:111: /tmp/ray/session_2023-09-28_16-24-44_905214_10515 is over 95% full, available space: 18288508928; capacity: 494384795648. Object creation will fail if spilling is required.\n"
     ]
    },
    {
     "name": "stdout",
     "output_type": "stream",
     "text": [
      "1640 0.037504874045545575\n",
      "1660 0.03603284363241035\n"
     ]
    },
    {
     "name": "stderr",
     "output_type": "stream",
     "text": [
      "(raylet) [2023-09-28 17:10:40,148 E 16553 7424559] (raylet) file_system_monitor.cc:111: /tmp/ray/session_2023-09-28_16-24-44_905214_10515 is over 95% full, available space: 18288443392; capacity: 494384795648. Object creation will fail if spilling is required.\n"
     ]
    },
    {
     "name": "stdout",
     "output_type": "stream",
     "text": [
      "1680 0.034618589004218825\n",
      "1700 0.033259842516704864\n",
      "1720 0.03195442552846963\n",
      "1740 0.030700244907704188\n",
      "1760 0.0294952896760199\n",
      "1780 0.02833762778400533\n",
      "1800 0.0272254030133394\n",
      "1820 0.026156832000493707\n"
     ]
    },
    {
     "name": "stderr",
     "output_type": "stream",
     "text": [
      "(raylet) [2023-09-28 17:10:50,240 E 16553 7424559] (raylet) file_system_monitor.cc:111: /tmp/ray/session_2023-09-28_16-24-44_905214_10515 is over 95% full, available space: 18288435200; capacity: 494384795648. Object creation will fail if spilling is required.\n"
     ]
    },
    {
     "name": "stdout",
     "output_type": "stream",
     "text": [
      "1840 0.0251302013772516\n",
      "1860 0.024143865023459197\n",
      "1880 0.023196241427603265\n",
      "1900 0.022285811150983933\n",
      "1920 0.021411114391416148\n",
      "1940 0.020570748642553566\n",
      "1960 0.019763366445081684\n",
      "1980 0.018987673226174544\n",
      "sum_rwd: <class 'list'>\n",
      "avgs: <class 'list'>\n"
     ]
    },
    {
     "data": {
      "image/png": "[encoded data removed]",
      "text/plain": [
       "<Figure size 640x480 with 1 Axes>"
      ]
     },
     "metadata": {},
     "output_type": "display_data"
    }
   ],
   "source": [
    "env = gym.make(\"LunarLander-v2\")\n",
    "agent_dqn_target = AgentDQNTarget(env)\n",
    "eps_min = 0.01\n",
    "eps_decay = 0.998\n",
    "n_ep = 2_000\n",
    "rewards = []\n",
    "state_memory = []\n",
    "\n",
    "def save_current_state():\n",
    "    state_memory.append(agent_dqn_target.QNN.state_dict())\n",
    "\n",
    "for i in range(n_ep):\n",
    "    if i % (n_ep / 100) == 0 :\n",
    "        save_current_state()\n",
    "        print(i,agent_dqn_target.eps)\n",
    "    rewards.append(agent_dqn_target.runOneEpisode())\n",
    "\n",
    "    agent_dqn_target.eps = max(agent_dqn_target.eps * eps_decay, eps_min)\n",
    "\n",
    "utils.plot_sumrwd_mean_perepi(rewards,floating_average(100)(rewards))\n",
    "env.close()\n",
    "\n"
   ]
  },
  {
   "cell_type": "code",
   "execution_count": 80,
   "metadata": {},
   "outputs": [
    {
     "ename": "PicklingError",
     "evalue": "Can't pickle <class 'agentdqntarget.AgentDQNTarget'>: it's not the same object as agentdqntarget.AgentDQNTarget",
     "output_type": "error",
     "traceback": [
      "\u001b[0;31m---------------------------------------------------------------------------\u001b[0m",
      "\u001b[0;31mPicklingError\u001b[0m                             Traceback (most recent call last)",
      "Cell \u001b[0;32mIn[80], line 9\u001b[0m\n\u001b[1;32m      6\u001b[0m         performances\u001b[38;5;241m.\u001b[39mappend(test_agent(agent, mean\u001b[38;5;241m=\u001b[39m mean, visual\u001b[38;5;241m=\u001b[39m visual))\n\u001b[1;32m      7\u001b[0m     \u001b[38;5;28;01mreturn\u001b[39;00m performances\n\u001b[0;32m----> 9\u001b[0m utils\u001b[38;5;241m.\u001b[39mplot_sumrwdperepi(\u001b[43mtest_agent_stored_in_state_dict\u001b[49m\u001b[43m(\u001b[49m\u001b[43magent_dqn_target\u001b[49m\u001b[43m,\u001b[49m\u001b[43mstate_memory\u001b[49m\u001b[43m)\u001b[49m)\n",
      "Cell \u001b[0;32mIn[80], line 6\u001b[0m, in \u001b[0;36mtest_agent_stored_in_state_dict\u001b[0;34m(agent, state_memory, mean, visual)\u001b[0m\n\u001b[1;32m      4\u001b[0m \u001b[38;5;28;01mfor\u001b[39;00m state_dict \u001b[38;5;129;01min\u001b[39;00m state_memory :\n\u001b[1;32m      5\u001b[0m     agent\u001b[38;5;241m.\u001b[39mQNN\u001b[38;5;241m.\u001b[39mload_state_dict(state_dict)\n\u001b[0;32m----> 6\u001b[0m     performances\u001b[38;5;241m.\u001b[39mappend(\u001b[43mtest_agent\u001b[49m\u001b[43m(\u001b[49m\u001b[43magent\u001b[49m\u001b[43m,\u001b[49m\u001b[43m \u001b[49m\u001b[43mmean\u001b[49m\u001b[38;5;241;43m=\u001b[39;49m\u001b[43m \u001b[49m\u001b[43mmean\u001b[49m\u001b[43m,\u001b[49m\u001b[43m \u001b[49m\u001b[43mvisual\u001b[49m\u001b[38;5;241;43m=\u001b[39;49m\u001b[43m \u001b[49m\u001b[43mvisual\u001b[49m\u001b[43m)\u001b[49m)\n\u001b[1;32m      7\u001b[0m \u001b[38;5;28;01mreturn\u001b[39;00m performances\n",
      "Cell \u001b[0;32mIn[78], line 36\u001b[0m, in \u001b[0;36mtest_agent\u001b[0;34m(agent, mean, visual)\u001b[0m\n\u001b[1;32m     34\u001b[0m visual_waiter \u001b[38;5;241m=\u001b[39m pool\u001b[38;5;241m.\u001b[39mapply_async(test_agent_visual,[agent])    \u001b[38;5;66;03m# evaluate \"solve1(A)\" asynchronously\u001b[39;00m\n\u001b[1;32m     35\u001b[0m mean_waiter \u001b[38;5;241m=\u001b[39m pool\u001b[38;5;241m.\u001b[39mapply_async(test_agent_mean, [agent])    \u001b[38;5;66;03m# evaluate \"solve2(B)\" asynchronously\u001b[39;00m\n\u001b[0;32m---> 36\u001b[0m \u001b[43mvisual_waiter\u001b[49m\u001b[38;5;241;43m.\u001b[39;49m\u001b[43mget\u001b[49m\u001b[43m(\u001b[49m\u001b[43m)\u001b[49m\n\u001b[1;32m     37\u001b[0m mean \u001b[38;5;241m=\u001b[39m mean_waiter\u001b[38;5;241m.\u001b[39mget()\n\u001b[1;32m     38\u001b[0m \u001b[38;5;28;01mreturn\u001b[39;00m mean\n",
      "File \u001b[0;32m~/miniconda3/envs/tpdeeprl2023/lib/python3.10/multiprocessing/pool.py:774\u001b[0m, in \u001b[0;36mApplyResult.get\u001b[0;34m(self, timeout)\u001b[0m\n\u001b[1;32m    772\u001b[0m     \u001b[39mreturn\u001b[39;00m \u001b[39mself\u001b[39m\u001b[39m.\u001b[39m_value\n\u001b[1;32m    773\u001b[0m \u001b[39melse\u001b[39;00m:\n\u001b[0;32m--> 774\u001b[0m     \u001b[39mraise\u001b[39;00m \u001b[39mself\u001b[39m\u001b[39m.\u001b[39m_value\n",
      "File \u001b[0;32m~/miniconda3/envs/tpdeeprl2023/lib/python3.10/multiprocessing/pool.py:540\u001b[0m, in \u001b[0;36mPool._handle_tasks\u001b[0;34m(taskqueue, put, outqueue, pool, cache)\u001b[0m\n\u001b[1;32m    538\u001b[0m     \u001b[39mbreak\u001b[39;00m\n\u001b[1;32m    539\u001b[0m \u001b[39mtry\u001b[39;00m:\n\u001b[0;32m--> 540\u001b[0m     put(task)\n\u001b[1;32m    541\u001b[0m \u001b[39mexcept\u001b[39;00m \u001b[39mException\u001b[39;00m \u001b[39mas\u001b[39;00m e:\n\u001b[1;32m    542\u001b[0m     job, idx \u001b[39m=\u001b[39m task[:\u001b[39m2\u001b[39m]\n",
      "File \u001b[0;32m~/miniconda3/envs/tpdeeprl2023/lib/python3.10/multiprocessing/connection.py:206\u001b[0m, in \u001b[0;36m_ConnectionBase.send\u001b[0;34m(self, obj)\u001b[0m\n\u001b[1;32m    204\u001b[0m \u001b[39mself\u001b[39m\u001b[39m.\u001b[39m_check_closed()\n\u001b[1;32m    205\u001b[0m \u001b[39mself\u001b[39m\u001b[39m.\u001b[39m_check_writable()\n\u001b[0;32m--> 206\u001b[0m \u001b[39mself\u001b[39m\u001b[39m.\u001b[39m_send_bytes(_ForkingPickler\u001b[39m.\u001b[39;49mdumps(obj))\n",
      "File \u001b[0;32m~/miniconda3/envs/tpdeeprl2023/lib/python3.10/multiprocessing/reduction.py:51\u001b[0m, in \u001b[0;36mForkingPickler.dumps\u001b[0;34m(cls, obj, protocol)\u001b[0m\n\u001b[1;32m     48\u001b[0m \u001b[39m@classmethod\u001b[39m\n\u001b[1;32m     49\u001b[0m \u001b[39mdef\u001b[39;00m \u001b[39mdumps\u001b[39m(\u001b[39mcls\u001b[39m, obj, protocol\u001b[39m=\u001b[39m\u001b[39mNone\u001b[39;00m):\n\u001b[1;32m     50\u001b[0m     buf \u001b[39m=\u001b[39m io\u001b[39m.\u001b[39mBytesIO()\n\u001b[0;32m---> 51\u001b[0m     \u001b[39mcls\u001b[39;49m(buf, protocol)\u001b[39m.\u001b[39;49mdump(obj)\n\u001b[1;32m     52\u001b[0m     \u001b[39mreturn\u001b[39;00m buf\u001b[39m.\u001b[39mgetbuffer()\n",
      "\u001b[0;31mPicklingError\u001b[0m: Can't pickle <class 'agentdqntarget.AgentDQNTarget'>: it's not the same object as agentdqntarget.AgentDQNTarget"
     ]
    }
   ],
   "source": [
    "def test_agent_stored_in_state_dict(agent, state_memory, mean = True, visual = True):\n",
    "    performances = []\n",
    "    agent.eps=0\n",
    "    for state_dict in state_memory :\n",
    "        agent.QNN.load_state_dict(state_dict)\n",
    "        performances.append(test_agent(agent, mean= mean, visual= visual))\n",
    "    return performances\n",
    "\n",
    "utils.plot_sumrwdperepi(test_agent_stored_in_state_dict(agent_dqn_target,state_memory))"
   ]
  },
  {
   "cell_type": "code",
   "execution_count": 49,
   "metadata": {},
   "outputs": [
    {
     "name": "stdout",
     "output_type": "stream",
     "text": [
      "0\n",
      "100\n",
      "200\n",
      "300\n",
      "400\n",
      "500\n",
      "600\n",
      "700\n",
      "800\n",
      "900\n",
      "-499.7076875360375\n"
     ]
    }
   ],
   "source": [
    "agent_dqn_target.eps = 0\n",
    "print(test_agent(agent_dqn_target))"
   ]
  },
  {
   "cell_type": "code",
   "execution_count": null,
   "metadata": {},
   "outputs": [],
   "source": [
    "#TODO corrige\n",
    "import utils\n",
    "from QNNC import QNNC\n",
    "from replaybufferC import ReplayBufferC\n",
    "from agentdqnC import AgentDQNC\n",
    "from agentdqntargetC import AgentDQNTargetC\n",
    "import gymnasium as gym\n",
    "import random\n",
    "import torch\n",
    "import numpy as np\n",
    "from collections import deque\n",
    "import matplotlib.pyplot as plt\n",
    "%matplotlib inline\n",
    "\n"
   ]
  },
  {
   "cell_type": "code",
   "execution_count": null,
   "metadata": {},
   "outputs": [],
   "source": [
    "#Correction\n",
    "env = gym.make(\"LunarLander-v2\")#a remettre sinon erreur ...\n",
    "wrapped_env = gym.wrappers.RecordEpisodeStatistics(env, 50)  # Records episode reward/length, 50= taille du buffer\n",
    "\n",
    "state_size = env.observation_space.shape[0]\n",
    "action_size = env.action_space.n\n",
    "\n",
    "eps_start = 1.0\n",
    "eps_end = 0.01\n",
    "eps_decay = 0.995\n",
    "\n",
    "dqlagent = AgentDQNTargetC(state_size,action_size,gamma=0.99)\n",
    "print(dqlagent.qnetwork_local)\n",
    "\n",
    "nb_episodes = 1000\n",
    "dqlalgo(dqlagent,wrapped_env,nb_episodes,eps_start,eps_end,eps_decay)"
   ]
  },
  {
   "cell_type": "markdown",
   "metadata": {},
   "source": [
    "### sauvegarde reseau"
   ]
  },
  {
   "cell_type": "code",
   "execution_count": null,
   "metadata": {},
   "outputs": [],
   "source": [
    "#sauvegarde du réseau \n",
    "savedfile = 'checkpoint_DQNtarget_3232.pth'\n",
    "torch.save(dqlagent.qnetwork_local.state_dict(), savedfile)"
   ]
  },
  {
   "cell_type": "code",
   "execution_count": null,
   "metadata": {},
   "outputs": [],
   "source": [
    "#TODO: verif que fonctionne \n",
    "state_dict = torch.load(savedfile)\n",
    "print(state_dict.keys())\n",
    "dqlagentb = DQLAgentC(state_size,action_size,gamma=0.99)\n",
    "dqlagentb.qnetwork.load_state_dict(state_dict)\n",
    "print(dqlagentb.qnetwork)\n",
    "\n",
    "#dqlalgo(dqlagent,50,eps_start,eps_end,eps_decay,True)"
   ]
  },
  {
   "cell_type": "markdown",
   "metadata": {},
   "source": [
    "### voir politique apprise"
   ]
  },
  {
   "cell_type": "code",
   "execution_count": null,
   "metadata": {},
   "outputs": [],
   "source": [
    "env = gym.make(\"LunarLander-v2\", render_mode=\"human\")#a remettre sinon erreur ...\n",
    "state_size = env.observation_space.shape[0]\n",
    "action_size = env.action_space.n\n",
    "savedfile = 'checkpoint_DQNtarget_3232.pth'\n",
    "state_dict = torch.load(savedfile)\n",
    "dqlagentb = DQLAgentTargetC(state_size,action_size,gamma=0.99)\n",
    "dqlagentb.qnetwork_local.load_state_dict(state_dict)\n",
    "eps_start = 0.01\n",
    "eps_end = 0.01\n",
    "eps_decay = 0.995\n",
    "nb_episodes = 1\n",
    "dqlalgo(dqlagentb,env,nb_episodes,eps_start,eps_end,eps_decay)"
   ]
  },
  {
   "cell_type": "markdown",
   "metadata": {},
   "source": []
  },
  {
   "cell_type": "code",
   "execution_count": null,
   "metadata": {},
   "outputs": [],
   "source": []
  }
 ],
 "metadata": {
  "kernelspec": {
   "display_name": "Python 3.10.12 ('tpdeeprl2023')",
   "language": "python",
   "name": "python3"
  },
  "language_info": {
   "codemirror_mode": {
    "name": "ipython",
    "version": 3
   },
   "file_extension": ".py",
   "mimetype": "text/x-python",
   "name": "python",
   "nbconvert_exporter": "python",
   "pygments_lexer": "ipython3",
   "version": "3.10.12"
  },
  "vscode": {
   "interpreter": {
    "hash": "194153de7adc29a30fc576a213b6dfb7f00cb65d45202995e54f7750962639be"
   }
  }
 },
 "nbformat": 4,
 "nbformat_minor": 4
}
