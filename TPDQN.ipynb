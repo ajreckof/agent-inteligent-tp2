{
 "cells": [
  {
   "cell_type": "markdown",
   "metadata": {},
   "source": [
    "# TP2 Deep QLearning\n",
    "\n",
    "Dans ce TP, vous devez implémenter un agent apprenant à faire atterir un vaisseau sur la lune avec l'algorithme Deep Q-Network. Pour cela vous allez utiliser [PyTorch](https://pytorch.org/) et [Gymnasium](https://gymnasium.farama.org/). \n",
    "\n",
    "<img src='img/lunarlander.png'  width=500px>\n",
    "\n",
    "# 1. Consignes\n",
    "\n",
    "> Vous devez  <span style=\"color:red\">compléter ce notebook et les différents fichiers python associés</span>.  <span style=\"color:red\"> Vous commenterez votre code</span> dans le notebook et dans les fichiers python.\n",
    "> \n",
    "> Vous devez aussi rendre un <span style=\"color:red\">rapport en pdf</span> (à ajouter à votre dépôt) avec le détail des différentes expérimentations réalisées dans les parties 6 et 7, i.e. pour chaque apprentissage testé, préciser dans le rapport les différents hyper paramètres (architecture du réseau, coefficient(s) d'apprentissage, nombre d'épisodes, taille du buffer, décroissance d'epsilon, ... tout ce qui permet de reproduire l'expérience) et mettre la courbe d'apprentissage obtenu.\n",
    "\n",
    "> Le code doit être fonctionnel avec l'environnement virtuel du TP. Si d'autres packages que ceux présents dans l'environnement virtuel créé au départ sont nécessaires, vous devez ajouter à votre dépôt un fichier `environnement.yaml` qui est un export de votre environnement virtuel. Ce fichier est obtenu avec la commande suivante:  ```conda env export > environnement.yaml```\n",
    "\n",
    "\n",
    "\n",
    "# 2. Import des packages"
   ]
  },
  {
   "cell_type": "code",
   "execution_count": 1,
   "metadata": {},
   "outputs": [],
   "source": [
    "%load_ext autoreload\n",
    "import gymnasium as gym\n",
    "import random\n",
    "import torch\n",
    "import numpy as np\n",
    "from collections import deque\n",
    "import matplotlib.pyplot as plt\n",
    "%matplotlib inline"
   ]
  },
  {
   "cell_type": "markdown",
   "metadata": {},
   "source": [
    "# 3. Gymnasium\n",
    "\n",
    "En apprentissage par renforcement, il y a deux concepts fondamentaux : l’agent et l’environnement.\n",
    "- L’agent est l’entité apprenante qui observe l’environnement et agit sur celui-ci selon les actions disponibles. Son objectif est de maximiser la récompense cumulée qu’il recoit de l’environnement avec lequel il interagit.\n",
    "- L'agent interagit avec l'environnement à travers la boucle de perception/action ce qui nécessite de définir :\n",
    "    - Un espace d’action.\n",
    "    - Un espace d’état (ou observation).\n",
    "    - Une fonction de récompense.\n",
    "  \n",
    "[Gymnasium](https://gymnasium.farama.org/) propose une interface open source unifiée entre un agent et un environnement.\n",
    "- [Gymnasium](https://gymnasium.farama.org/) propose un ensemble d'environnements pour des tâches d'apprentissage par renforcement. La plupart des environnements ont leur code source disponible sur [GitHub](https://github.com/Farama-Foundation/Gymnasium/tree/main/gymnasium/envs). De nouveaux environnements peuvent aussi être créés à condition qu'ils soient compatibles avec l'interface. \n",
    "- Grâce à l'interface unifiée, il est possible de définir indépendamment un agent de l’environnement avec lequel il interagit (et inversement). \n",
    "- Lorsque certains pré-traitements sont nécessaires sur les actions, observations, récompenses, ... il est possible d’encapsuler l’environnement dans un **wrapper**, celui-ci se chargera du pré-traitement. \n",
    "\n"
   ]
  },
  {
   "cell_type": "markdown",
   "metadata": {},
   "source": [
    "Dans ce TP, nous allons implémenter un agent qui interagira avec l'environnement [LunarLander](https://gymnasium.farama.org/environments/box2d/lunar_lander/). Il existe plusieurs fonctions clé pour interagir avec un environnement.\n",
    "\n",
    ">  <span style=\"color:green\">Lisez la documentation de Gymnasium</span>: [utilisation basique](https://gymnasium.farama.org/content/basic_usage/), [API pour les environnements](https://gymnasium.farama.org/api/env/), ...\n",
    "\n",
    "\n"
   ]
  },
  {
   "cell_type": "markdown",
   "metadata": {},
   "source": [
    "##  3.1 - Caractéristiques de l'environnement LunarLander-v2\n",
    "\n",
    "> <span style=\"color:green\">Compléter la cellule de code ci-dessous. A l'exécution devra s'afficher:\n",
    "> \n",
    "> - **les dimensions pour les espaces d'états et d'actions** de l'environnement `LunarLander`.\n",
    "> - les bornes min et max pour les dimensions de l'état\n",
    "> - un échantillon pris au hasard dans chaque espace. "
   ]
  },
  {
   "cell_type": "code",
   "execution_count": 2,
   "metadata": {},
   "outputs": [
    {
     "name": "stdout",
     "output_type": "stream",
     "text": [
      "dimension de l'espace des observation :  8\n",
      " taille de l'espace des actions :  Discrete(4)\n",
      "valeur minimale :  [-1.5       -1.5       -5.        -5.        -3.1415927 -5.\n",
      " -0.        -0.       ]\n",
      "valeur maximale :  [1.5       1.5       5.        5.        3.1415927 5.        1.\n",
      " 1.       ]\n",
      "action au hasard :  3\n",
      "observation prise au hasard :  [1.3431772  0.5402981  3.3203983  2.0233686  1.3218694  3.3492775\n",
      " 0.5055168  0.34643647]\n"
     ]
    }
   ],
   "source": [
    "env = gym.make(\"LunarLander-v2\")\n",
    "print(\"dimension de l'espace des observation : \", env.observation_space.shape[0])\n",
    "print(\" taille de l'espace des actions : \", env.action_space)\n",
    "print(\"valeur minimale : \", env.observation_space.low)\n",
    "print(\"valeur maximale : \", env.observation_space.high)\n",
    "print(\"action au hasard : \", env.action_space.sample())\n",
    "print(\"observation prise au hasard : \", env.observation_space.sample())\n",
    "\n"
   ]
  },
  {
   "cell_type": "markdown",
   "metadata": {},
   "source": [
    "## 3.2 Interaction et affichage de l'environnement sur un épisode\n",
    "\n",
    "> <span style=\"color:green\">Exécuter une instance de l'environnement `LunarLander` pendant un épisode avec des **actions aléatoires**. Afficher l'environnement à chaque pas pour visualiser le comportement du vaisseau. A la fin de l'épisode, afficher la somme des récompenses obtenues sur l'épisode et la raison pour laquelle l'épisode s'est terminé. </span>\n",
    "\n"
   ]
  },
  {
   "cell_type": "code",
   "execution_count": 3,
   "metadata": {},
   "outputs": [
    {
     "name": "stderr",
     "output_type": "stream",
     "text": [
      "/Users/timothebonhoure/miniconda3/envs/tpdeeprl2023/lib/python3.10/site-packages/gymnasium/utils/passive_env_checker.py:233: DeprecationWarning: `np.bool8` is a deprecated alias for `np.bool_`.  (Deprecated NumPy 1.24)\n",
      "  if not isinstance(terminated, (bool, np.bool8)):\n"
     ]
    },
    {
     "name": "stdout",
     "output_type": "stream",
     "text": [
      "l'épisode c'est fini car l'agent a atteint le sol\n",
      "récompense total :  -156.9548799422887\n"
     ]
    }
   ],
   "source": [
    "env = gym.make(\"LunarLander-v2\", render_mode=\"human\")\n",
    "observation, info = env.reset()\n",
    "terminated = False\n",
    "truncated = False \n",
    "total_reward = 0\n",
    "while not (terminated or truncated): \n",
    "    action = env.action_space.sample()  # agent policy that uses the observation and info\n",
    "    observation, reward, terminated, truncated, info = env.step(action)\n",
    "    total_reward += reward\n",
    "\n",
    "env.close()\n",
    "if truncated : \n",
    "    print(\"L'épisode c'est fini prématurément soit car l'agent a pris trop de temps soit qu'il est sortis de l'espace d'observation\")\n",
    "else :\n",
    "    print(\"l'épisode c'est fini car l'agent a atteint le sol\")\n",
    "\n",
    "print(\"récompense total : \", total_reward)"
   ]
  },
  {
   "cell_type": "markdown",
   "metadata": {},
   "source": [
    "# 4. Agent glouton (sans apprentissage)\n",
    "\n",
    "> <span style=\"color:green\">Vous devez maintenant implémenter un **agent glouton** qui utilise un réseau de neurones pour représenter la Q fonction.</span>\n",
    "\n",
    "- définir l'architecture du réseau de neurones en complétant `QNN.py`. Ce réseau va approximer la Q-fonction comme dans DQN (pour l'instant, les poids du réseau ne seront pas mis à jour, le réseau est uniquement utilisé en prédiction).\n",
    "\n",
    "- définir un agent glouton en complétant `agentglouton.py`: il utilisera la prédiction du réseau de neurones pour choisir ses actions selon une stratégie d’exploration $\\epsilon$-greedy.\n",
    "\n",
    "- utiliser cet agent sur plusieurs épisodes dans `LunarLander`. Vous utiliserez une décroissance de l'exploration, i.e. que $\\epsilon$ va décroitre à chaque épisode, en démarrant à une valeur élevée (beaucoup d'exploration) et avec une borne minimum. Ainsi, au premier épisode, $\\epsilon=\\epsilon_{start}$, et à chaque épisode, $\\epsilon=max(\\epsilon_{end}, \\epsilon_{decay}*\\epsilon)$. Par exemple sur 1000 épisodes, les valeurs peuvent être $\\epsilon_{start} = 1.0$, $\\epsilon_{end} = 0.01$ et $\\epsilon_{decay} = 0.995$.\n",
    "\n",
    "- proposer un tracé de la somme des récompenses obtenues par épisode (vous pouvez utiliser le fichier `utils.py`).\n"
   ]
  },
  {
   "cell_type": "code",
   "execution_count": 4,
   "metadata": {},
   "outputs": [],
   "source": [
    "# import depuis un fichier python local \n",
    "%autoreload 2\n",
    "from QNN import QNN \n",
    "%autoreload 2\n",
    "from agentglouton import AgentGlouton\n",
    "import utils"
   ]
  },
  {
   "cell_type": "code",
   "execution_count": 5,
   "metadata": {},
   "outputs": [
    {
     "name": "stdout",
     "output_type": "stream",
     "text": [
      "0\n",
      "100\n",
      "200\n",
      "300\n",
      "400\n",
      "500\n",
      "600\n",
      "700\n",
      "800\n",
      "900\n",
      "sum_rwd: <class 'list'>\n",
      "avgs: <class 'list'>\n"
     ]
    },
    {
     "data": {
      "image/png": "[encoded data removed]",
      "text/plain": [
       "<Figure size 640x480 with 1 Axes>"
      ]
     },
     "metadata": {},
     "output_type": "display_data"
    }
   ],
   "source": [
    "agent_glouton = AgentGlouton()\n",
    "\n",
    "env = gym.make(\"LunarLander-v2\")\n",
    "eps_min = 0.01\n",
    "eps_decay = 0.995\n",
    "n_ep = 1_000\n",
    "agent_glouton.eps = 1\n",
    "rewards = []\n",
    "\n",
    "def floating_average(n):\n",
    "    return lambda list : [ sum(list[max(0,i-n):i+1])/ min(i+1,n) for i in range(len(list))]\n",
    "\n",
    "def runOneEpisode():\n",
    "    observation, info = env.reset()\n",
    "    terminated = False\n",
    "    truncated = False \n",
    "    total_reward = 0\n",
    "    while not (terminated or truncated): \n",
    "        action = agent_glouton.getAction(observation)   # agent policy that uses the observation and info\n",
    "        observation, reward, terminated, truncated, info = env.step(action)\n",
    "        total_reward += reward\n",
    "    return total_reward\n",
    "\n",
    "for i in range(n_ep):\n",
    "    if i % 100 == 0 :\n",
    "        print(i)\n",
    "    rewards.append(runOneEpisode())\n",
    "    agent_glouton.eps = max(agent_glouton.eps * eps_decay, eps_min)\n",
    "utils.plot_sumrwd_mean_perepi(rewards,floating_average(50)(rewards))\n",
    "env.close()"
   ]
  },
  {
   "cell_type": "markdown",
   "metadata": {},
   "source": [
    "# 5. Experience replay\n",
    "\n",
    "L'algorithme DQN utilise l’experience replay:\n",
    "- pendant la phase de **sample**, qui est une phase d'interaction avec l'environnement sans apprentissage, l'agent stocke en mémoire toutes les interactions (ou expériences) rencontrées. Une interaction est un tuple `(état,action,état_suivant,récompense,fin_episode)`.  Le buffer a une taille maximale (100 000 par exemple). Lorsqu’elle est dépassée, les nouvelles interactions remplacent les plus anciennes. \n",
    "\n",
    "- pendant la phase d'**apprentissage**, l’agent apprend à partir des interactions stockées dans son buffer. Il choisit aléatoirement un minibatch d’interactions dans son buffer (64 par exemple).\n",
    "\n",
    "> <span style=\"color:green\">Compléter la classe `ReplayBuffer` du fichier `replaybuffer.py` pour stockez les interactions et récupérer des mini-batchs. </span> \n"
   ]
  },
  {
   "cell_type": "code",
   "execution_count": 6,
   "metadata": {},
   "outputs": [],
   "source": [
    "%autoreload 2\n",
    "from replaybuffer import ReplayBuffer"
   ]
  },
  {
   "cell_type": "markdown",
   "metadata": {},
   "source": [
    "# 6. Deep QLearning avec Replay Buffer\n",
    "\n",
    "\n",
    "Vous allez maintenant implémenter l'algorithme du **Deep QLearning avec ReplayBuffer** pour que votre agent apprenne en mettant à jour les poids de son réseau de neurone. \n",
    "\n",
    "- Après chaque interaction, le buffer sera remplit. \n",
    "- Une phase d'apprentissage sera réalisée toutes les `n` interactions (par ex. $n=4$), pendant laquelle un minibatch de données sera choisi dans le buffer pour réaliser la descente de gradient. Pour une interaction $(s,a,s',r)$, la valeur cible (erreur TD) sera calculée de la façon suivante:\n",
    "    - $y = r(s,a) + \\gamma max_b Q_\\omega(s',b) $ si l'épisode continu\n",
    "    - $y = r(s,a)  $ si l'épisode se termine\n",
    "\n",
    "Remarque: vous n'utiliserez pas de réseau cible (*target network*) pour l'instant.\n"
   ]
  },
  {
   "cell_type": "markdown",
   "metadata": {},
   "source": [
    "> <span style=\"color:green\">Compléter la classe `AgentDQN` et utiliser cet agent sur plusieurs épisodes dans `LunarLander`. Vous proposerez un tracé de la somme des récompenses obtenues par épisode (vous pouvez utiliser `utils.py`), et une visualisation d'un épisode après apprentissage.</span> \n",
    " \n",
    "Pour l'optimizer, SGD et [Adam](https://machinelearningmastery.com/adam-optimization-algorithm-for-deep-learning/) sont particulièrement adaptés. \n",
    "\n",
    "Voici aussi des liens vers différentes fonctions de PyTorch qui pourraient vous être utiles:\n",
    "- [unsqueeze](https://pytorch.org/docs/stable/generated/torch.unsqueeze.html)\n",
    "- [gather](https://pytorch.org/docs/stable/generated/torch.gather.html)\n",
    " \n",
    " "
   ]
  },
  {
   "cell_type": "code",
   "execution_count": null,
   "metadata": {},
   "outputs": [],
   "source": [
    "%autoreload 2\n",
    "from agentdqn import AgentDQN"
   ]
  },
  {
   "cell_type": "code",
   "execution_count": 34,
   "metadata": {},
   "outputs": [
    {
     "name": "stdout",
     "output_type": "stream",
     "text": [
      "tensor([ -13.7892, -125.8901,   68.0937,   42.3643], grad_fn=<AddBackward0>)\n",
      "0\n",
      "test\n",
      "test\n",
      "test\n",
      "test\n",
      "t :  tensor([[nan],\n",
      "        [nan],\n",
      "        [nan],\n",
      "        [nan],\n",
      "        [nan],\n",
      "        [nan],\n",
      "        [nan],\n",
      "        [nan],\n",
      "        [nan],\n",
      "        [nan],\n",
      "        [nan],\n",
      "        [nan],\n",
      "        [nan],\n",
      "        [nan],\n",
      "        [nan],\n",
      "        [nan],\n",
      "        [nan],\n",
      "        [nan],\n",
      "        [nan],\n",
      "        [nan],\n",
      "        [nan],\n",
      "        [nan],\n",
      "        [nan],\n",
      "        [nan],\n",
      "        [nan],\n",
      "        [nan],\n",
      "        [nan],\n",
      "        [nan],\n",
      "        [nan],\n",
      "        [nan],\n",
      "        [nan],\n",
      "        [nan],\n",
      "        [nan],\n",
      "        [nan],\n",
      "        [nan],\n",
      "        [nan],\n",
      "        [nan],\n",
      "        [nan],\n",
      "        [nan],\n",
      "        [nan],\n",
      "        [nan],\n",
      "        [nan],\n",
      "        [nan],\n",
      "        [nan],\n",
      "        [nan],\n",
      "        [nan],\n",
      "        [nan],\n",
      "        [nan],\n",
      "        [nan],\n",
      "        [nan],\n",
      "        [nan],\n",
      "        [nan],\n",
      "        [nan],\n",
      "        [nan],\n",
      "        [nan],\n",
      "        [nan],\n",
      "        [nan],\n",
      "        [nan],\n",
      "        [nan],\n",
      "        [nan],\n",
      "        [nan],\n",
      "        [nan],\n",
      "        [nan],\n",
      "        [nan]], grad_fn=<AddBackward0>) \n",
      " rewards : tensor([-3.5854, -0.1369, -5.0081, -0.0447, -2.0952, -0.3276, -2.8561, -2.0917,\n",
      "        -1.7068, -1.3800, -0.5355,  1.1886, -1.0114,  0.3458, -1.2379, -0.5560,\n",
      "        -1.6664, -2.7620,  0.5511, -4.3219, -2.5083, -0.8589, -0.2851, -1.8294,\n",
      "        -3.2761,  1.4142, -4.1685, -0.0734, -1.0147,  0.8992,  2.5289, -2.0992,\n",
      "        -0.8510,  0.4306, -0.2311, -2.1286, -2.0495, -0.1946, -1.8516, -2.1517,\n",
      "        -3.2443, -1.0509,  0.2926, -3.2552, -2.6933, -1.2002, -2.5692,  0.7659,\n",
      "        -0.0420, -2.0846,  0.3340, -1.1784, -0.9966, -4.8173, -2.7937, -1.8424,\n",
      "        -4.5590, -2.1646, -2.2136, -1.8199, -0.1735, -4.3824,  1.3223, -1.1423]) \n",
      " dones :  tensor([[0.],\n",
      "        [0.],\n",
      "        [0.],\n",
      "        [0.],\n",
      "        [0.],\n",
      "        [0.],\n",
      "        [0.],\n",
      "        [0.],\n",
      "        [0.],\n",
      "        [0.],\n",
      "        [0.],\n",
      "        [0.],\n",
      "        [0.],\n",
      "        [0.],\n",
      "        [0.],\n",
      "        [0.],\n",
      "        [0.],\n",
      "        [0.],\n",
      "        [0.],\n",
      "        [0.],\n",
      "        [0.],\n",
      "        [0.],\n",
      "        [0.],\n",
      "        [0.],\n",
      "        [0.],\n",
      "        [0.],\n",
      "        [0.],\n",
      "        [0.],\n",
      "        [0.],\n",
      "        [0.],\n",
      "        [0.],\n",
      "        [0.],\n",
      "        [0.],\n",
      "        [0.],\n",
      "        [0.],\n",
      "        [0.],\n",
      "        [0.],\n",
      "        [0.],\n",
      "        [0.],\n",
      "        [0.],\n",
      "        [0.],\n",
      "        [0.],\n",
      "        [0.],\n",
      "        [0.],\n",
      "        [0.],\n",
      "        [0.],\n",
      "        [0.],\n",
      "        [0.],\n",
      "        [0.],\n",
      "        [0.],\n",
      "        [0.],\n",
      "        [0.],\n",
      "        [0.],\n",
      "        [0.],\n",
      "        [0.],\n",
      "        [0.],\n",
      "        [0.],\n",
      "        [0.],\n",
      "        [0.],\n",
      "        [0.],\n",
      "        [0.],\n",
      "        [0.],\n",
      "        [0.],\n",
      "        [0.]]) \n",
      " value_next_states tensor([nan, nan, nan, nan, nan, nan, nan, nan, nan, nan, nan, nan, nan, nan, nan, nan, nan, nan, nan, nan, nan, nan, nan, nan,\n",
      "        nan, nan, nan, nan, nan, nan, nan, nan, nan, nan, nan, nan, nan, nan, nan, nan, nan, nan, nan, nan, nan, nan, nan, nan,\n",
      "        nan, nan, nan, nan, nan, nan, nan, nan, nan, nan, nan, nan, nan, nan, nan, nan],\n",
      "       grad_fn=<MaxBackward0>) \n",
      " next q values :  tensor([[nan, nan, nan, nan],\n",
      "        [nan, nan, nan, nan],\n",
      "        [nan, nan, nan, nan],\n",
      "        [nan, nan, nan, nan],\n",
      "        [nan, nan, nan, nan],\n",
      "        [nan, nan, nan, nan],\n",
      "        [nan, nan, nan, nan],\n",
      "        [nan, nan, nan, nan],\n",
      "        [nan, nan, nan, nan],\n",
      "        [nan, nan, nan, nan],\n",
      "        [nan, nan, nan, nan],\n",
      "        [nan, nan, nan, nan],\n",
      "        [nan, nan, nan, nan],\n",
      "        [nan, nan, nan, nan],\n",
      "        [nan, nan, nan, nan],\n",
      "        [nan, nan, nan, nan],\n",
      "        [nan, nan, nan, nan],\n",
      "        [nan, nan, nan, nan],\n",
      "        [nan, nan, nan, nan],\n",
      "        [nan, nan, nan, nan],\n",
      "        [nan, nan, nan, nan],\n",
      "        [nan, nan, nan, nan],\n",
      "        [nan, nan, nan, nan],\n",
      "        [nan, nan, nan, nan],\n",
      "        [nan, nan, nan, nan],\n",
      "        [nan, nan, nan, nan],\n",
      "        [nan, nan, nan, nan],\n",
      "        [nan, nan, nan, nan],\n",
      "        [nan, nan, nan, nan],\n",
      "        [nan, nan, nan, nan],\n",
      "        [nan, nan, nan, nan],\n",
      "        [nan, nan, nan, nan],\n",
      "        [nan, nan, nan, nan],\n",
      "        [nan, nan, nan, nan],\n",
      "        [nan, nan, nan, nan],\n",
      "        [nan, nan, nan, nan],\n",
      "        [nan, nan, nan, nan],\n",
      "        [nan, nan, nan, nan],\n",
      "        [nan, nan, nan, nan],\n",
      "        [nan, nan, nan, nan],\n",
      "        [nan, nan, nan, nan],\n",
      "        [nan, nan, nan, nan],\n",
      "        [nan, nan, nan, nan],\n",
      "        [nan, nan, nan, nan],\n",
      "        [nan, nan, nan, nan],\n",
      "        [nan, nan, nan, nan],\n",
      "        [nan, nan, nan, nan],\n",
      "        [nan, nan, nan, nan],\n",
      "        [nan, nan, nan, nan],\n",
      "        [nan, nan, nan, nan],\n",
      "        [nan, nan, nan, nan],\n",
      "        [nan, nan, nan, nan],\n",
      "        [nan, nan, nan, nan],\n",
      "        [nan, nan, nan, nan],\n",
      "        [nan, nan, nan, nan],\n",
      "        [nan, nan, nan, nan],\n",
      "        [nan, nan, nan, nan],\n",
      "        [nan, nan, nan, nan],\n",
      "        [nan, nan, nan, nan],\n",
      "        [nan, nan, nan, nan],\n",
      "        [nan, nan, nan, nan],\n",
      "        [nan, nan, nan, nan],\n",
      "        [nan, nan, nan, nan],\n",
      "        [nan, nan, nan, nan]], grad_fn=<AddmmBackward0>)\n"
     ]
    },
    {
     "ename": "ZeroDivisionError",
     "evalue": "division by zero",
     "output_type": "error",
     "traceback": [
      "\u001b[0;31m---------------------------------------------------------------------------\u001b[0m",
      "\u001b[0;31mZeroDivisionError\u001b[0m                         Traceback (most recent call last)",
      "Cell \u001b[0;32mIn[34], line 12\u001b[0m\n\u001b[1;32m     10\u001b[0m     \u001b[38;5;28;01mif\u001b[39;00m i \u001b[38;5;241m%\u001b[39m \u001b[38;5;241m1\u001b[39m \u001b[38;5;241m==\u001b[39m \u001b[38;5;241m0\u001b[39m :\n\u001b[1;32m     11\u001b[0m         \u001b[38;5;28mprint\u001b[39m(i)\n\u001b[0;32m---> 12\u001b[0m     rewards\u001b[38;5;241m.\u001b[39mappend(\u001b[43magent\u001b[49m\u001b[38;5;241;43m.\u001b[39;49m\u001b[43mrunOneEpisode\u001b[49m\u001b[43m(\u001b[49m\u001b[43m)\u001b[49m)\n\u001b[1;32m     14\u001b[0m     agent\u001b[38;5;241m.\u001b[39meps \u001b[38;5;241m=\u001b[39m \u001b[38;5;28mmax\u001b[39m(agent\u001b[38;5;241m.\u001b[39meps \u001b[38;5;241m*\u001b[39m eps_decay, eps_min)\n\u001b[1;32m     16\u001b[0m utils\u001b[38;5;241m.\u001b[39mplot_sumrwd_mean_perepi(rewards,floating_average(\u001b[38;5;241m100\u001b[39m)(rewards))\n",
      "File \u001b[0;32m~/Documents/GitHub/2023-m2ia-intagents-tp2-timothe-bonhoure/agentdqn.py:56\u001b[0m, in \u001b[0;36mAgentDQN.runOneEpisode\u001b[0;34m(self)\u001b[0m\n\u001b[1;32m     53\u001b[0m     \u001b[39mif\u001b[39;00m \u001b[39mself\u001b[39m\u001b[39m.\u001b[39minteraction_before_learn_phase \u001b[39m==\u001b[39m \u001b[39m0\u001b[39m :\n\u001b[1;32m     54\u001b[0m         \u001b[39m# on réapprend toute les 4 intéractions\u001b[39;00m\n\u001b[1;32m     55\u001b[0m         \u001b[39mself\u001b[39m\u001b[39m.\u001b[39minteraction_before_learn_phase \u001b[39m=\u001b[39m \u001b[39m4\u001b[39m\n\u001b[0;32m---> 56\u001b[0m         \u001b[39mself\u001b[39;49m\u001b[39m.\u001b[39;49mrunLearnPhase()\n\u001b[1;32m     57\u001b[0m \u001b[39mreturn\u001b[39;00m total_reward\n",
      "File \u001b[0;32m~/Documents/GitHub/2023-m2ia-intagents-tp2-timothe-bonhoure/agentdqn.py:71\u001b[0m, in \u001b[0;36mAgentDQN.runLearnPhase\u001b[0;34m(self)\u001b[0m\n\u001b[1;32m     68\u001b[0m \u001b[39mif\u001b[39;00m t\u001b[39m.\u001b[39misnan()\u001b[39m.\u001b[39many():\n\u001b[1;32m     69\u001b[0m     \u001b[39mprint\u001b[39m(\u001b[39m\"\u001b[39m\u001b[39mt : \u001b[39m\u001b[39m\"\u001b[39m, t, \u001b[39m\"\u001b[39m\u001b[39m\\n\u001b[39;00m\u001b[39m rewards :\u001b[39m\u001b[39m\"\u001b[39m, rewards, \u001b[39m\"\u001b[39m\u001b[39m\\n\u001b[39;00m\u001b[39m dones : \u001b[39m\u001b[39m\"\u001b[39m, dones, \u001b[39m\"\u001b[39m\u001b[39m\\n\u001b[39;00m\u001b[39m value_next_states\u001b[39m\u001b[39m\"\u001b[39m, value_next_states,\n\u001b[1;32m     70\u001b[0m           \u001b[39m\"\u001b[39m\u001b[39m\\n\u001b[39;00m\u001b[39m next q values : \u001b[39m\u001b[39m\"\u001b[39m, \u001b[39mself\u001b[39m\u001b[39m.\u001b[39mQNN(next_states))\n\u001b[0;32m---> 71\u001b[0m     \u001b[39mprint\u001b[39m(\u001b[39m1\u001b[39;49m\u001b[39m/\u001b[39;49m\u001b[39m0\u001b[39;49m)\n\u001b[1;32m     72\u001b[0m loss \u001b[39m=\u001b[39m \u001b[39mself\u001b[39m\u001b[39m.\u001b[39mloss_func(t, outputs)\n\u001b[1;32m     73\u001b[0m loss\u001b[39m.\u001b[39mbackward()\n",
      "\u001b[0;31mZeroDivisionError\u001b[0m: division by zero"
     ]
    }
   ],
   "source": [
    "\n",
    "env = gym.make(\"LunarLander-v2\")\n",
    "agent = AgentDQN(env)\n",
    "print(agent.QNN(torch.tensor(env.observation_space.sample())))\n",
    "eps_min = 0.01\n",
    "eps_decay = 0.995\n",
    "n_ep = 1_000\n",
    "rewards = []\n",
    "\n",
    "for i in range(n_ep):\n",
    "    if i % 1 == 0 :\n",
    "        print(i)\n",
    "    rewards.append(agent.runOneEpisode())\n",
    "\n",
    "    agent.eps = max(agent.eps * eps_decay, eps_min)\n",
    "\n",
    "utils.plot_sumrwd_mean_perepi(rewards,floating_average(100)(rewards))\n",
    "env.close()"
   ]
  },
  {
   "cell_type": "code",
   "execution_count": 17,
   "metadata": {},
   "outputs": [
    {
     "data": {
      "text/plain": [
       "tensor([nan, nan, nan, nan], grad_fn=<AddBackward0>)"
      ]
     },
     "execution_count": 17,
     "metadata": {},
     "output_type": "execute_result"
    }
   ],
   "source": [
    "env = gym.make(\"LunarLander-v2\")"
   ]
  },
  {
   "cell_type": "code",
   "execution_count": 21,
   "metadata": {},
   "outputs": [
    {
     "data": {
      "text/plain": [
       "tensor([nan, nan, nan, nan], grad_fn=<AddBackward0>)"
      ]
     },
     "execution_count": 21,
     "metadata": {},
     "output_type": "execute_result"
    }
   ],
   "source": [
    "agent.QNN(torch.tensor(env.observation_space.sample()))"
   ]
  },
  {
   "cell_type": "code",
   "execution_count": 13,
   "metadata": {},
   "outputs": [
    {
     "name": "stdout",
     "output_type": "stream",
     "text": [
      "0\n",
      "100\n",
      "200\n",
      "300\n",
      "400\n",
      "500\n",
      "600\n",
      "700\n",
      "800\n",
      "900\n",
      "-130.03780729117042\n",
      "0\n",
      "100\n",
      "200\n",
      "300\n",
      "400\n",
      "500\n",
      "600\n",
      "700\n",
      "800\n",
      "900\n",
      "-866.4596961902871\n",
      "0\n",
      "100\n",
      "200\n",
      "300\n",
      "400\n",
      "500\n",
      "600\n",
      "700\n",
      "800\n",
      "900\n"
     ]
    },
    {
     "ename": "KeyboardInterrupt",
     "evalue": "",
     "output_type": "error",
     "traceback": [
      "\u001b[0;31m---------------------------------------------------------------------------\u001b[0m",
      "\u001b[0;31mKeyboardInterrupt\u001b[0m                         Traceback (most recent call last)",
      "Cell \u001b[0;32mIn[13], line 29\u001b[0m\n\u001b[1;32m     27\u001b[0m \u001b[38;5;28mprint\u001b[39m(test_agent(agent))\n\u001b[1;32m     28\u001b[0m \u001b[38;5;28mprint\u001b[39m(test_agent(agent_glouton))\n\u001b[0;32m---> 29\u001b[0m \u001b[38;5;28mprint\u001b[39m(\u001b[43mtest_agent\u001b[49m\u001b[43m(\u001b[49m\u001b[43mAgentDQN\u001b[49m\u001b[43m(\u001b[49m\u001b[43mgym\u001b[49m\u001b[38;5;241;43m.\u001b[39;49m\u001b[43mmake\u001b[49m\u001b[43m(\u001b[49m\u001b[38;5;124;43m\"\u001b[39;49m\u001b[38;5;124;43mLunarLander-v2\u001b[39;49m\u001b[38;5;124;43m\"\u001b[39;49m\u001b[43m)\u001b[49m\u001b[43m,\u001b[49m\u001b[43meps\u001b[49m\u001b[43m \u001b[49m\u001b[38;5;241;43m=\u001b[39;49m\u001b[43m \u001b[49m\u001b[38;5;241;43m1\u001b[39;49m\u001b[43m)\u001b[49m\u001b[43m)\u001b[49m) \u001b[38;5;66;03m#fully random choice\u001b[39;00m\n",
      "Cell \u001b[0;32mIn[13], line 22\u001b[0m, in \u001b[0;36mtest_agent\u001b[0;34m(agent)\u001b[0m\n\u001b[1;32m     20\u001b[0m     \u001b[38;5;28;01mwhile\u001b[39;00m \u001b[38;5;129;01mnot\u001b[39;00m (terminated \u001b[38;5;129;01mor\u001b[39;00m truncated): \n\u001b[1;32m     21\u001b[0m         action \u001b[38;5;241m=\u001b[39m agent\u001b[38;5;241m.\u001b[39mgetAction(observation)  \u001b[38;5;66;03m# agent policy that uses the observation and info\u001b[39;00m\n\u001b[0;32m---> 22\u001b[0m         observation, reward, terminated, truncated, info \u001b[38;5;241m=\u001b[39m \u001b[43menv\u001b[49m\u001b[38;5;241;43m.\u001b[39;49m\u001b[43mstep\u001b[49m\u001b[43m(\u001b[49m\u001b[43maction\u001b[49m\u001b[43m)\u001b[49m\n\u001b[1;32m     23\u001b[0m env\u001b[38;5;241m.\u001b[39mclose()\n\u001b[1;32m     24\u001b[0m \u001b[38;5;28;01mreturn\u001b[39;00m total_reward\u001b[38;5;241m/\u001b[39m\u001b[38;5;241m1000\u001b[39m\n",
      "File \u001b[0;32m~/miniconda3/envs/tpdeeprl2023/lib/python3.10/site-packages/gymnasium/wrappers/time_limit.py:50\u001b[0m, in \u001b[0;36mTimeLimit.step\u001b[0;34m(self, action)\u001b[0m\n\u001b[1;32m     39\u001b[0m \u001b[39mdef\u001b[39;00m \u001b[39mstep\u001b[39m(\u001b[39mself\u001b[39m, action):\n\u001b[1;32m     40\u001b[0m \u001b[39m    \u001b[39m\u001b[39m\"\"\"Steps through the environment and if the number of steps elapsed exceeds ``max_episode_steps`` then truncate.\u001b[39;00m\n\u001b[1;32m     41\u001b[0m \n\u001b[1;32m     42\u001b[0m \u001b[39m    Args:\u001b[39;00m\n\u001b[0;32m   (...)\u001b[0m\n\u001b[1;32m     48\u001b[0m \n\u001b[1;32m     49\u001b[0m \u001b[39m    \"\"\"\u001b[39;00m\n\u001b[0;32m---> 50\u001b[0m     observation, reward, terminated, truncated, info \u001b[39m=\u001b[39m \u001b[39mself\u001b[39;49m\u001b[39m.\u001b[39;49menv\u001b[39m.\u001b[39;49mstep(action)\n\u001b[1;32m     51\u001b[0m     \u001b[39mself\u001b[39m\u001b[39m.\u001b[39m_elapsed_steps \u001b[39m+\u001b[39m\u001b[39m=\u001b[39m \u001b[39m1\u001b[39m\n\u001b[1;32m     53\u001b[0m     \u001b[39mif\u001b[39;00m \u001b[39mself\u001b[39m\u001b[39m.\u001b[39m_elapsed_steps \u001b[39m>\u001b[39m\u001b[39m=\u001b[39m \u001b[39mself\u001b[39m\u001b[39m.\u001b[39m_max_episode_steps:\n",
      "File \u001b[0;32m~/miniconda3/envs/tpdeeprl2023/lib/python3.10/site-packages/gymnasium/wrappers/order_enforcing.py:37\u001b[0m, in \u001b[0;36mOrderEnforcing.step\u001b[0;34m(self, action)\u001b[0m\n\u001b[1;32m     35\u001b[0m \u001b[39mif\u001b[39;00m \u001b[39mnot\u001b[39;00m \u001b[39mself\u001b[39m\u001b[39m.\u001b[39m_has_reset:\n\u001b[1;32m     36\u001b[0m     \u001b[39mraise\u001b[39;00m ResetNeeded(\u001b[39m\"\u001b[39m\u001b[39mCannot call env.step() before calling env.reset()\u001b[39m\u001b[39m\"\u001b[39m)\n\u001b[0;32m---> 37\u001b[0m \u001b[39mreturn\u001b[39;00m \u001b[39mself\u001b[39;49m\u001b[39m.\u001b[39;49menv\u001b[39m.\u001b[39;49mstep(action)\n",
      "File \u001b[0;32m~/miniconda3/envs/tpdeeprl2023/lib/python3.10/site-packages/gymnasium/wrappers/env_checker.py:39\u001b[0m, in \u001b[0;36mPassiveEnvChecker.step\u001b[0;34m(self, action)\u001b[0m\n\u001b[1;32m     37\u001b[0m     \u001b[39mreturn\u001b[39;00m env_step_passive_checker(\u001b[39mself\u001b[39m\u001b[39m.\u001b[39menv, action)\n\u001b[1;32m     38\u001b[0m \u001b[39melse\u001b[39;00m:\n\u001b[0;32m---> 39\u001b[0m     \u001b[39mreturn\u001b[39;00m \u001b[39mself\u001b[39;49m\u001b[39m.\u001b[39;49menv\u001b[39m.\u001b[39;49mstep(action)\n",
      "File \u001b[0;32m~/miniconda3/envs/tpdeeprl2023/lib/python3.10/site-packages/gymnasium/envs/box2d/lunar_lander.py:601\u001b[0m, in \u001b[0;36mLunarLander.step\u001b[0;34m(self, action)\u001b[0m\n\u001b[1;32m    598\u001b[0m     reward \u001b[39m=\u001b[39m \u001b[39m+\u001b[39m\u001b[39m100\u001b[39m\n\u001b[1;32m    600\u001b[0m \u001b[39mif\u001b[39;00m \u001b[39mself\u001b[39m\u001b[39m.\u001b[39mrender_mode \u001b[39m==\u001b[39m \u001b[39m\"\u001b[39m\u001b[39mhuman\u001b[39m\u001b[39m\"\u001b[39m:\n\u001b[0;32m--> 601\u001b[0m     \u001b[39mself\u001b[39;49m\u001b[39m.\u001b[39;49mrender()\n\u001b[1;32m    602\u001b[0m \u001b[39mreturn\u001b[39;00m np\u001b[39m.\u001b[39marray(state, dtype\u001b[39m=\u001b[39mnp\u001b[39m.\u001b[39mfloat32), reward, terminated, \u001b[39mFalse\u001b[39;00m, {}\n",
      "File \u001b[0;32m~/miniconda3/envs/tpdeeprl2023/lib/python3.10/site-packages/gymnasium/envs/box2d/lunar_lander.py:631\u001b[0m, in \u001b[0;36mLunarLander.render\u001b[0;34m(self)\u001b[0m\n\u001b[1;32m    628\u001b[0m \u001b[39mself\u001b[39m\u001b[39m.\u001b[39msurf \u001b[39m=\u001b[39m pygame\u001b[39m.\u001b[39mSurface((VIEWPORT_W, VIEWPORT_H))\n\u001b[1;32m    630\u001b[0m pygame\u001b[39m.\u001b[39mtransform\u001b[39m.\u001b[39mscale(\u001b[39mself\u001b[39m\u001b[39m.\u001b[39msurf, (SCALE, SCALE))\n\u001b[0;32m--> 631\u001b[0m pygame\u001b[39m.\u001b[39;49mdraw\u001b[39m.\u001b[39;49mrect(\u001b[39mself\u001b[39;49m\u001b[39m.\u001b[39;49msurf, (\u001b[39m255\u001b[39;49m, \u001b[39m255\u001b[39;49m, \u001b[39m255\u001b[39;49m), \u001b[39mself\u001b[39;49m\u001b[39m.\u001b[39;49msurf\u001b[39m.\u001b[39;49mget_rect())\n\u001b[1;32m    633\u001b[0m \u001b[39mfor\u001b[39;00m obj \u001b[39min\u001b[39;00m \u001b[39mself\u001b[39m\u001b[39m.\u001b[39mparticles:\n\u001b[1;32m    634\u001b[0m     obj\u001b[39m.\u001b[39mttl \u001b[39m-\u001b[39m\u001b[39m=\u001b[39m \u001b[39m0.15\u001b[39m\n",
      "\u001b[0;31mKeyboardInterrupt\u001b[0m: "
     ]
    }
   ],
   "source": [
    "def test_agent(agent):\n",
    "    env = gym.make(\"LunarLander-v2\")\n",
    "    total_reward = 0\n",
    "    for i in range(1000):\n",
    "        if i % 100 == 0 :\n",
    "            print(i)\n",
    "        observation, info = env.reset()\n",
    "        terminated = False\n",
    "        truncated = False \n",
    "        while not (terminated or truncated): \n",
    "            action = agent.getAction(observation)  # agent policy that uses the observation and info\n",
    "            observation, reward, terminated, truncated, info = env.step(action)\n",
    "            total_reward += reward\n",
    "    \n",
    "    env = gym.make(\"LunarLander-v2\", render_mode=\"human\")\n",
    "    for i in range(10):\n",
    "        observation, info = env.reset()\n",
    "        terminated = False\n",
    "        truncated = False \n",
    "        while not (terminated or truncated): \n",
    "            action = agent.getAction(observation)  # agent policy that uses the observation and info\n",
    "            observation, reward, terminated, truncated, info = env.step(action)\n",
    "    env.close()\n",
    "    return total_reward/1000\n",
    "agent.eps = 0\n",
    "agent_glouton.eps = 0\n",
    "print(test_agent(agent))\n",
    "print(test_agent(agent_glouton))\n",
    "print(test_agent(AgentDQN(gym.make(\"LunarLander-v2\"),eps = 1))) #fully random choice"
   ]
  },
  {
   "cell_type": "markdown",
   "metadata": {},
   "source": [
    "# 7. Deep QLearning avec réseau cible\n",
    "\n",
    "Il se peut que votre agent précédent apprenne des comportements intéressants mais qu’ils soient très instables. On va maintenant ajouter un réseau cible pour l'améliorer.\n",
    "\n",
    "> <span style=\"color:green\"> Compléter la classe `AgentDQNTarget` pour implémenter un agent apprenant avec DQN (deep QLearning et *target network*) pour stabiliser l’apprentissage. Utiliser cet agent sur plusieurs épisodes dans `LunarLander`. Vous proposerez un tracé de la somme des récompenses obtenues par épisode (vous pouvez utiliser `utils.py`), et une visualisation d'un épisode après apprentissage.</span> \n",
    " \n",
    " \n",
    "Pour la mise à jour du réseau cible, vous pouvez:\n",
    "- toutes les N étapes d'apprentissage (10000 par exemple), recopier entièrement le réseau de neurone original dans le duplicat\n",
    "- mettre à jour petit à petit le duplicat à chaque étape d’apprentissage : $$\\omega' = (1-\\tau)\\omega' +\\alpha \\omega$$ où $\\omega'$ sont les poids du duplicat, $\\omega$ les poids du réseau original, et $\\tau$ le pas de mise à jour. Souvent $\\tau = 0.001$.\n",
    "\n",
    "\n",
    "Pour copier des poids d'un réseau de neurone vers un autre, la méthode `copy_` peut être appelée sur les paramètres:\n",
    "\n",
    "`for param_duplicat, param_source in zip(model_duplicat.parameters(), model_source.parameters()):`\n",
    "           \n",
    "`param_duplicat.data.copy_(param_source.data)`\n",
    "\n",
    "\n",
    "\n",
    "\n"
   ]
  },
  {
   "cell_type": "code",
   "execution_count": null,
   "metadata": {},
   "outputs": [],
   "source": [
    "from agentdqntarget import agentDQNTarget"
   ]
  },
  {
   "cell_type": "code",
   "execution_count": null,
   "metadata": {},
   "outputs": [],
   "source": [
    "# TODO"
   ]
  },
  {
   "cell_type": "code",
   "execution_count": null,
   "metadata": {},
   "outputs": [],
   "source": [
    "#TODO corrige\n",
    "import utils\n",
    "from QNNC import QNNC\n",
    "from replaybufferC import ReplayBufferC\n",
    "from agentdqnC import AgentDQNC\n",
    "from agentdqntargetC import AgentDQNTargetC\n",
    "import gymnasium as gym\n",
    "import random\n",
    "import torch\n",
    "import numpy as np\n",
    "from collections import deque\n",
    "import matplotlib.pyplot as plt\n",
    "%matplotlib inline"
   ]
  },
  {
   "cell_type": "code",
   "execution_count": null,
   "metadata": {},
   "outputs": [],
   "source": [
    "#Correction\n",
    "env = gym.make(\"LunarLander-v2\")#a remettre sinon erreur ...\n",
    "wrapped_env = gym.wrappers.RecordEpisodeStatistics(env, 50)  # Records episode reward/length, 50= taille du buffer\n",
    "\n",
    "state_size = env.observation_space.shape[0]\n",
    "action_size = env.action_space.n\n",
    "\n",
    "eps_start = 1.0\n",
    "eps_end = 0.01\n",
    "eps_decay = 0.995\n",
    "\n",
    "dqlagent = AgentDQNTargetC(state_size,action_size,gamma=0.99)\n",
    "print(dqlagent.qnetwork_local)\n",
    "\n",
    "nb_episodes = 1000\n",
    "dqlalgo(dqlagent,wrapped_env,nb_episodes,eps_start,eps_end,eps_decay)"
   ]
  },
  {
   "cell_type": "markdown",
   "metadata": {},
   "source": [
    "### sauvegarde reseau"
   ]
  },
  {
   "cell_type": "code",
   "execution_count": null,
   "metadata": {},
   "outputs": [],
   "source": [
    "#sauvegarde du réseau \n",
    "savedfile = 'checkpoint_DQNtarget_3232.pth'\n",
    "torch.save(dqlagent.qnetwork_local.state_dict(), savedfile)"
   ]
  },
  {
   "cell_type": "code",
   "execution_count": null,
   "metadata": {},
   "outputs": [],
   "source": [
    "#TODO: verif que fonctionne \n",
    "state_dict = torch.load(savedfile)\n",
    "print(state_dict.keys())\n",
    "dqlagentb = DQLAgentC(state_size,action_size,gamma=0.99)\n",
    "dqlagentb.qnetwork.load_state_dict(state_dict)\n",
    "print(dqlagentb.qnetwork)\n",
    "\n",
    "#dqlalgo(dqlagent,50,eps_start,eps_end,eps_decay,True)"
   ]
  },
  {
   "cell_type": "markdown",
   "metadata": {},
   "source": [
    "### voir politique apprise"
   ]
  },
  {
   "cell_type": "code",
   "execution_count": null,
   "metadata": {},
   "outputs": [],
   "source": [
    "env = gym.make(\"LunarLander-v2\", render_mode=\"human\")#a remettre sinon erreur ...\n",
    "state_size = env.observation_space.shape[0]\n",
    "action_size = env.action_space.n\n",
    "savedfile = 'checkpoint_DQNtarget_3232.pth'\n",
    "state_dict = torch.load(savedfile)\n",
    "dqlagentb = DQLAgentTargetC(state_size,action_size,gamma=0.99)\n",
    "dqlagentb.qnetwork_local.load_state_dict(state_dict)\n",
    "eps_start = 0.01\n",
    "eps_end = 0.01\n",
    "eps_decay = 0.995\n",
    "nb_episodes = 1\n",
    "dqlalgo(dqlagentb,env,nb_episodes,eps_start,eps_end,eps_decay)"
   ]
  },
  {
   "cell_type": "markdown",
   "metadata": {},
   "source": []
  },
  {
   "cell_type": "code",
   "execution_count": null,
   "metadata": {},
   "outputs": [],
   "source": []
  }
 ],
 "metadata": {
  "kernelspec": {
   "display_name": "Python 3.10.12 ('tpdeeprl2023')",
   "language": "python",
   "name": "python3"
  },
  "language_info": {
   "codemirror_mode": {
    "name": "ipython",
    "version": 3
   },
   "file_extension": ".py",
   "mimetype": "text/x-python",
   "name": "python",
   "nbconvert_exporter": "python",
   "pygments_lexer": "ipython3",
   "version": "3.10.12"
  },
  "vscode": {
   "interpreter": {
    "hash": "194153de7adc29a30fc576a213b6dfb7f00cb65d45202995e54f7750962639be"
   }
  }
 },
 "nbformat": 4,
 "nbformat_minor": 4
}
